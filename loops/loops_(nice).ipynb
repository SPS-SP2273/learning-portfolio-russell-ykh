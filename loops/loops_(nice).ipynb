{
 "cells": [
  {
   "cell_type": "markdown",
   "id": "123456",
   "metadata": {},
   "source": [
    "<div style=\"text-align:left;font-size:2em\"><span style=\"font-weight:bolder;font-size:1.25em\">SP2273 | Learning Portfolio</span><br><br><span style=\"font-weight:bold;color:darkred\">Loops (Nice)</span></div>"
   ]
  },
  {
   "cell_type": "markdown",
   "id": "341a9cc9",
   "metadata": {},
   "source": [
    "## 1 There is more…"
   ]
  },
  {
   "cell_type": "markdown",
   "id": "722b2cee",
   "metadata": {},
   "source": [
    "### 1.1 There is more to list comprehension"
   ]
  },
  {
   "cell_type": "code",
   "execution_count": 5,
   "id": "f72adac7",
   "metadata": {},
   "outputs": [
    {
     "data": {
      "text/plain": [
       "[[0, 'a'],\n",
       " [0, 'b'],\n",
       " [0, 'c'],\n",
       " [1, 'a'],\n",
       " [1, 'b'],\n",
       " [1, 'c'],\n",
       " [2, 'a'],\n",
       " [2, 'b'],\n",
       " [2, 'c'],\n",
       " [3, 'a'],\n",
       " [3, 'b'],\n",
       " [3, 'c'],\n",
       " [4, 'a'],\n",
       " [4, 'b'],\n",
       " [4, 'c']]"
      ]
     },
     "execution_count": 5,
     "metadata": {},
     "output_type": "execute_result"
    }
   ],
   "source": [
    "[[a,b] for a in range(5) for b in [\"a\",\"b\",\"c\"]]\n"
   ]
  },
  {
   "cell_type": "markdown",
   "id": "10d65dd1",
   "metadata": {},
   "source": [
    "### 1.2 Zipping a dictionary"
   ]
  },
  {
   "cell_type": "code",
   "execution_count": 6,
   "id": "90b80c83",
   "metadata": {},
   "outputs": [
    {
     "data": {
      "text/plain": [
       "{'Natasha Romanoff': 'Black Widow',\n",
       " 'Tony Stark': 'Iron Man',\n",
       " 'Stephen Strange': 'Doctor Strange'}"
      ]
     },
     "execution_count": 6,
     "metadata": {},
     "output_type": "execute_result"
    }
   ],
   "source": [
    "super_names=[\"Black Widow\", \"Iron Man\", \"Doctor Strange\"]\n",
    "real_names=[\"Natasha Romanoff\", \"Tony Stark\", \"Stephen Strange\"]\n",
    "\n",
    "dict(zip(real_names, super_names))"
   ]
  },
  {
   "cell_type": "markdown",
   "id": "18334e5e",
   "metadata": {},
   "source": [
    "### 1.3 for and while has an else"
   ]
  },
  {
   "cell_type": "code",
   "execution_count": 9,
   "id": "1350ff56",
   "metadata": {},
   "outputs": [],
   "source": [
    "#else is only executed in for/while if not breaks\n",
    "\n",
    "numbers=[-1, 0, 1, 2, 3, 4, 5, 6, 7, 8, 9]\n",
    "\n",
    "for i in numbers:\n",
    "    if i < 0: break\n",
    "else:\n",
    "    print('No negative numbers in the list')\n"
   ]
  },
  {
   "cell_type": "markdown",
   "id": "f8f8bf2f",
   "metadata": {},
   "source": [
    "## Explore 1 :  Changing a list"
   ]
  },
  {
   "cell_type": "code",
   "execution_count": 30,
   "id": "605269b8",
   "metadata": {},
   "outputs": [
    {
     "name": "stdout",
     "output_type": "stream",
     "text": [
      "['apple', 'banana', 'jackfruit', 'watermelons', 'durian', 'mangoes', 'strawberries']\n"
     ]
    }
   ],
   "source": [
    "fruits = [\"apple\", \"banana\", \"jackfruit\",\n",
    "          \"pineapple\", \"papaya\", \"watermelons\",\n",
    "          \"peaches\", \"durian\",  \"mangoes\",\n",
    "          \"strawberries\", \"passionfruit\"]\n",
    "\n",
    "print(list(filter(lambda fruit: fruit[0] != \"p\",fruits)))"
   ]
  },
  {
   "cell_type": "markdown",
   "id": "1a8471f8",
   "metadata": {},
   "source": [
    "## Explore 2 :  A list of power"
   ]
  },
  {
   "cell_type": "code",
   "execution_count": 37,
   "id": "9d3e9a2c",
   "metadata": {},
   "outputs": [
    {
     "name": "stdout",
     "output_type": "stream",
     "text": [
      "[[1, 1, 1, 2, 4, 8, 3, 9, 27, 4, 16, 64, 5, 25, 125], [1, 1, 1, 2, 4, 8, 3, 9, 27, 4, 16, 64, 5, 25, 125], [1, 1, 1, 2, 4, 8, 3, 9, 27, 4, 16, 64, 5, 25, 125], [1, 1, 1, 2, 4, 8, 3, 9, 27, 4, 16, 64, 5, 25, 125], [1, 1, 1, 2, 4, 8, 3, 9, 27, 4, 16, 64, 5, 25, 125]]\n"
     ]
    }
   ],
   "source": [
    "maximum_n = 5\n",
    "result = [[]] * maximum_n\n",
    "\n",
    "for n in range(1, maximum_n + 1):\n",
    "    result[n - 1].append(n)\n",
    "    result[n - 1].append(n**2)\n",
    "    result[n - 1].append(n**3)\n",
    "print(result)"
   ]
  },
  {
   "cell_type": "code",
   "execution_count": 35,
   "id": "8cfa282a",
   "metadata": {},
   "outputs": [
    {
     "name": "stdout",
     "output_type": "stream",
     "text": [
      "[[1, 1, 1], [2, 4, 8], [3, 9, 27], [4, 16, 64], [5, 25, 125]]\n"
     ]
    }
   ],
   "source": [
    "maximum_n = 5\n",
    "result = [[]] * maximum_n\n",
    "\n",
    "for n in range(1, maximum_n + 1):\n",
    "    result[n - 1] = [n,n**2,n**3]\n",
    "\n",
    "print(result)"
   ]
  },
  {
   "cell_type": "markdown",
   "id": "0cfea0b7",
   "metadata": {},
   "source": [
    "## Explore 3 :  Time profiling"
   ]
  },
  {
   "cell_type": "markdown",
   "id": "4e0e836b",
   "metadata": {},
   "source": [
    "### For Loop VS While Loop"
   ]
  },
  {
   "cell_type": "code",
   "execution_count": 47,
   "id": "4c7846c5",
   "metadata": {},
   "outputs": [
    {
     "name": "stdout",
     "output_type": "stream",
     "text": [
      "2.23 µs ± 2.47 ns per loop (mean ± std. dev. of 7 runs, 100,000 loops each)\n"
     ]
    }
   ],
   "source": [
    "%%timeit\n",
    "lst = []\n",
    "for x in range(0,10):\n",
    "    lst.append(x**2)"
   ]
  },
  {
   "cell_type": "code",
   "execution_count": 45,
   "id": "739a5425",
   "metadata": {
    "scrolled": true
   },
   "outputs": [
    {
     "name": "stdout",
     "output_type": "stream",
     "text": [
      "2.31 µs ± 6.16 ns per loop (mean ± std. dev. of 7 runs, 100,000 loops each)\n"
     ]
    }
   ],
   "source": [
    "%%timeit\n",
    "lst = []\n",
    "i = 0\n",
    "while i < 10:\n",
    "    lst.append(i**2)\n",
    "    i+=1"
   ]
  },
  {
   "cell_type": "markdown",
   "id": "058bd95e",
   "metadata": {},
   "source": [
    "### For Loop VS List Comprehension Loop"
   ]
  },
  {
   "cell_type": "code",
   "execution_count": 48,
   "id": "49e407cd",
   "metadata": {},
   "outputs": [
    {
     "name": "stdout",
     "output_type": "stream",
     "text": [
      "2.23 µs ± 8.63 ns per loop (mean ± std. dev. of 7 runs, 100,000 loops each)\n"
     ]
    }
   ],
   "source": [
    "%%timeit\n",
    "lst = []\n",
    "for x in range(0,10):\n",
    "    lst.append(x**2)"
   ]
  },
  {
   "cell_type": "code",
   "execution_count": 49,
   "id": "dc7976f3",
   "metadata": {},
   "outputs": [
    {
     "name": "stdout",
     "output_type": "stream",
     "text": [
      "2.11 µs ± 7.91 ns per loop (mean ± std. dev. of 7 runs, 100,000 loops each)\n"
     ]
    }
   ],
   "source": [
    "%timeit [x**2 for x in range(0,10)]"
   ]
  },
  {
   "cell_type": "markdown",
   "id": "a88d23c3",
   "metadata": {},
   "source": [
    "### append() vs append() Numpy"
   ]
  },
  {
   "cell_type": "code",
   "execution_count": 53,
   "id": "cb212e64",
   "metadata": {
    "scrolled": true
   },
   "outputs": [
    {
     "name": "stdout",
     "output_type": "stream",
     "text": [
      "2.21 µs ± 5.91 ns per loop (mean ± std. dev. of 7 runs, 100,000 loops each)\n"
     ]
    }
   ],
   "source": [
    "%%timeit\n",
    "lst = []\n",
    "for x in range(0,10):\n",
    "    lst.append(x**2)"
   ]
  },
  {
   "cell_type": "code",
   "execution_count": 55,
   "id": "7e9aab09",
   "metadata": {},
   "outputs": [
    {
     "name": "stdout",
     "output_type": "stream",
     "text": [
      "2.27 µs ± 8.69 ns per loop (mean ± std. dev. of 7 runs, 100,000 loops each)\n"
     ]
    }
   ],
   "source": [
    "%%timeit\n",
    "lst = []\n",
    "for x in range(0,10):\n",
    "    lst += [x**2]"
   ]
  },
  {
   "cell_type": "markdown",
   "id": "c956c57f",
   "metadata": {},
   "source": [
    "### append() vs append() Numpy"
   ]
  },
  {
   "cell_type": "code",
   "execution_count": 51,
   "id": "71933f50",
   "metadata": {},
   "outputs": [
    {
     "name": "stdout",
     "output_type": "stream",
     "text": [
      "2.22 µs ± 2.05 ns per loop (mean ± std. dev. of 7 runs, 100,000 loops each)\n"
     ]
    }
   ],
   "source": [
    "%%timeit\n",
    "lst = []\n",
    "for x in range(0,10):\n",
    "    lst.append(x**2)"
   ]
  },
  {
   "cell_type": "code",
   "execution_count": 52,
   "id": "b1fd9408",
   "metadata": {
    "scrolled": true
   },
   "outputs": [
    {
     "name": "stdout",
     "output_type": "stream",
     "text": [
      "1.26 µs ± 2.93 ns per loop (mean ± std. dev. of 7 runs, 1,000,000 loops each)\n"
     ]
    }
   ],
   "source": [
    "%%timeit\n",
    "import numpy\n",
    "\n",
    "lst = []\n",
    "for x in range(0,10):\n",
    "    lst.append(x)\n",
    "array = numpy.array(lst) ** 2"
   ]
  },
  {
   "cell_type": "markdown",
   "id": "51b78ba7",
   "metadata": {},
   "source": [
    "### append() Numpy vs List Comprehension Loop vs append() Numpy + List Comprehension"
   ]
  },
  {
   "cell_type": "code",
   "execution_count": 64,
   "id": "f837a5bb",
   "metadata": {},
   "outputs": [
    {
     "name": "stdout",
     "output_type": "stream",
     "text": [
      "1.25 µs ± 1.85 ns per loop (mean ± std. dev. of 7 runs, 1,000,000 loops each)\n"
     ]
    }
   ],
   "source": [
    "%%timeit\n",
    "import numpy\n",
    "\n",
    "lst = []\n",
    "for x in range(0,10):\n",
    "    lst.append(x)\n",
    "array = numpy.array(lst) ** 2"
   ]
  },
  {
   "cell_type": "code",
   "execution_count": 60,
   "id": "f1315207",
   "metadata": {},
   "outputs": [
    {
     "name": "stdout",
     "output_type": "stream",
     "text": [
      "2.1 µs ± 3.27 ns per loop (mean ± std. dev. of 7 runs, 100,000 loops each)\n"
     ]
    }
   ],
   "source": [
    "%timeit [x**2 for x in range(0,10)]"
   ]
  },
  {
   "cell_type": "code",
   "execution_count": 65,
   "id": "162c8131",
   "metadata": {},
   "outputs": [
    {
     "name": "stdout",
     "output_type": "stream",
     "text": [
      "1.13 µs ± 2.51 ns per loop (mean ± std. dev. of 7 runs, 1,000,000 loops each)\n"
     ]
    }
   ],
   "source": [
    "%%timeit\n",
    "import numpy\n",
    "\n",
    "array = numpy.array([x for x in range(0, 10)]) ** 2"
   ]
  }
 ],
 "metadata": {
  "kernelspec": {
   "display_name": "Python 3 (ipykernel)",
   "language": "python",
   "name": "python3"
  },
  "language_info": {
   "codemirror_mode": {
    "name": "ipython",
    "version": 3
   },
   "file_extension": ".py",
   "mimetype": "text/x-python",
   "name": "python",
   "nbconvert_exporter": "python",
   "pygments_lexer": "ipython3",
   "version": "3.10.8"
  },
  "toc": {
   "base_numbering": 1,
   "nav_menu": {},
   "number_sections": true,
   "sideBar": true,
   "skip_h1_title": false,
   "title_cell": "Table of Contents",
   "title_sidebar": "Contents",
   "toc_cell": false,
   "toc_position": {},
   "toc_section_display": true,
   "toc_window_display": false
  },
  "varInspector": {
   "cols": {
    "lenName": 16,
    "lenType": 16,
    "lenVar": 40
   },
   "kernels_config": {
    "python": {
     "delete_cmd_postfix": "",
     "delete_cmd_prefix": "del ",
     "library": "var_list.py",
     "varRefreshCmd": "print(var_dic_list())"
    },
    "r": {
     "delete_cmd_postfix": ") ",
     "delete_cmd_prefix": "rm(",
     "library": "var_list.r",
     "varRefreshCmd": "cat(var_dic_list()) "
    }
   },
   "types_to_exclude": [
    "module",
    "function",
    "builtin_function_or_method",
    "instance",
    "_Feature"
   ],
   "window_display": false
  },
  "vscode": {
   "interpreter": {
    "hash": "31f2aee4e71d21fbe5cf8b01ff0e069b9275f58929596ceb00d14d90e3e16cd6"
   }
  }
 },
 "nbformat": 4,
 "nbformat_minor": 5
}
