{
 "cells": [
  {
   "cell_type": "markdown",
   "id": "123456",
   "metadata": {},
   "source": [
    "<div style=\"text-align:left;font-size:2em\"><span style=\"font-weight:bolder;font-size:1.25em\">SP2273 | Learning Portfolio</span><br><br><span style=\"font-weight:bold;color:darkred\">Functions (Need)</span></div>"
   ]
  },
  {
   "cell_type": "markdown",
   "id": "e9da2a1f",
   "metadata": {},
   "source": [
    "## 1 User defined functions"
   ]
  },
  {
   "cell_type": "markdown",
   "id": "c44cbb6c",
   "metadata": {},
   "source": [
    "### 1.1 Named functions that return"
   ]
  },
  {
   "cell_type": "code",
   "execution_count": 32,
   "id": "fca52b6b",
   "metadata": {},
   "outputs": [],
   "source": [
    "# important learning point!!!! you can return multiple variables and do multiple assignment\n",
    "# is this also unpacking?\n",
    "\n",
    "import numpy as np\n",
    "\n",
    "def basic_stats(numbers):\n",
    "    np_numbers=np.array(numbers)\n",
    "    return np_numbers.min(), np_numbers.max(), np_numbers.mean()\n",
    "\n",
    "list_min, list_max, list_mean = basic_stats([1, 2, 3, 4, 5])"
   ]
  },
  {
   "cell_type": "markdown",
   "id": "9d70c478",
   "metadata": {},
   "source": [
    "### 1.2 Named functions that don’t return"
   ]
  },
  {
   "cell_type": "code",
   "execution_count": 3,
   "id": "dd7ccba6",
   "metadata": {},
   "outputs": [],
   "source": [
    "let = \"let\"\n",
    "\n",
    "def set_let(net):\n",
    "    let = net\n",
    "\n",
    "set_let(\"get\")"
   ]
  },
  {
   "cell_type": "markdown",
   "id": "66962531",
   "metadata": {},
   "source": [
    "### 1.3 Anonymous functions"
   ]
  },
  {
   "cell_type": "code",
   "execution_count": 14,
   "id": "4b6dfc9c",
   "metadata": {},
   "outputs": [
    {
     "data": {
      "text/plain": [
       "[[9, 0, 10],\n",
       " [8, 1, 11],\n",
       " [7, 2, 12],\n",
       " [6, 3, 13],\n",
       " [5, 4, 14],\n",
       " [4, 5, 15],\n",
       " [3, 6, 16],\n",
       " [2, 7, 17],\n",
       " [1, 8, 18],\n",
       " [0, 9, 19]]"
      ]
     },
     "execution_count": 14,
     "metadata": {},
     "output_type": "execute_result"
    }
   ],
   "source": [
    "import random\n",
    "\n",
    "numbers=[[9, 0, 10],\n",
    "         [8, 1, 11],\n",
    "         [7, 2, 12],\n",
    "         [6, 3, 13],\n",
    "         [5, 4, 14],\n",
    "         [4, 5, 15],\n",
    "         [3, 6, 16],\n",
    "         [2, 7, 17],\n",
    "         [1, 8, 18],\n",
    "         [0, 9, 19]]\n",
    "\n",
    "i = random.randrange(2)\n",
    "\n",
    "sorted(numbers, key=lambda x: x[i])  "
   ]
  },
  {
   "cell_type": "markdown",
   "id": "f46918c5",
   "metadata": {},
   "source": [
    "### 1.4 Optional arguments"
   ]
  },
  {
   "cell_type": "code",
   "execution_count": 15,
   "id": "520462fa",
   "metadata": {},
   "outputs": [
    {
     "name": "stdout",
     "output_type": "stream",
     "text": [
      "I am Batman!\n",
      "I---am---Batman!\n",
      "I am Batman!"
     ]
    }
   ],
   "source": [
    "print('I', 'am', 'Batman!') #basic\n",
    "print('I', 'am', 'Batman!', sep='---') #looks cool\n",
    "print('I', 'am', 'Batman!', end=\"\") #this stops newline so you can just join together multiple strings if you don't want to do formatting"
   ]
  },
  {
   "cell_type": "markdown",
   "id": "208b3de8",
   "metadata": {},
   "source": [
    "## 2 The importance of functions?"
   ]
  },
  {
   "cell_type": "markdown",
   "id": "643fd82c",
   "metadata": {},
   "source": [
    "### 2.1 An argument for functions"
   ]
  },
  {
   "cell_type": "code",
   "execution_count": null,
   "id": "26d1a79b",
   "metadata": {},
   "outputs": [],
   "source": [
    "\n",
    "# Your code here\n"
   ]
  },
  {
   "cell_type": "markdown",
   "id": "114b8763",
   "metadata": {},
   "source": [
    "### 2.2 A word of caution"
   ]
  },
  {
   "cell_type": "code",
   "execution_count": null,
   "id": "f94b4f78",
   "metadata": {},
   "outputs": [],
   "source": [
    "\n",
    "# Your code here\n"
   ]
  },
  {
   "cell_type": "markdown",
   "id": "8b91080b",
   "metadata": {},
   "source": [
    "## Exercise 1 :  Do you know why?"
   ]
  },
  {
   "cell_type": "code",
   "execution_count": null,
   "id": "010b1619",
   "metadata": {},
   "outputs": [],
   "source": [
    "def greeting(name):\n",
    "    if name == 'Batman':\n",
    "        return 'Hello Batman! So, nice to meet you!'\n",
    "    return f'Hello {name}!'"
   ]
  },
  {
   "cell_type": "markdown",
   "id": "2c856139",
   "metadata": {},
   "source": [
    "If the name is <code>\"Batman\"</code>, the function immediately ends there and does not return <code>f\"Hello {name}!\"</code>. \n",
    "\n",
    "This works because this function returns something, which immediately ends the function and does not process anything after that."
   ]
  },
  {
   "cell_type": "markdown",
   "id": "c58743b7",
   "metadata": {},
   "source": [
    "## Exercise 2 :  Calculator functions"
   ]
  },
  {
   "cell_type": "code",
   "execution_count": 8,
   "id": "ca1add8c",
   "metadata": {},
   "outputs": [
    {
     "name": "stdout",
     "output_type": "stream",
     "text": [
      "174 ns ± 1 ns per loop (mean ± std. dev. of 7 runs, 10,000,000 loops each)\n"
     ]
    }
   ],
   "source": [
    "%%timeit\n",
    "\n",
    "import numpy as np\n",
    "import random\n",
    "\n",
    "def test():\n",
    "    x = np.array([random.randint(3) for y in range(100)])\n",
    "    return 0 in x"
   ]
  },
  {
   "cell_type": "code",
   "execution_count": 7,
   "id": "d2745573",
   "metadata": {},
   "outputs": [
    {
     "name": "stdout",
     "output_type": "stream",
     "text": [
      "173 ns ± 0.428 ns per loop (mean ± std. dev. of 7 runs, 10,000,000 loops each)\n"
     ]
    }
   ],
   "source": [
    "%%timeit\n",
    "\n",
    "import numpy as np\n",
    "import random\n",
    "\n",
    "def test():\n",
    "    x = np.array([random.randint(3) for y in range(100)])\n",
    "    return (x == 0).any()"
   ]
  },
  {
   "cell_type": "code",
   "execution_count": 2,
   "id": "812df3bc",
   "metadata": {},
   "outputs": [
    {
     "name": "stdout",
     "output_type": "stream",
     "text": [
      "[100 100 100  76 100]\n",
      "[-28 -32 -12  76 -46]\n",
      "[2304 2244 2464    0 1971]\n",
      "[36 34 44 76 27] cannot be divided by [64 66 56  0 73]! Forcing kernel to stop!\n",
      "0\n"
     ]
    },
    {
     "data": {
      "text/plain": [
       "0"
      ]
     },
     "execution_count": 2,
     "metadata": {},
     "output_type": "execute_result"
    }
   ],
   "source": [
    "import numpy as np\n",
    "import warnings\n",
    "\n",
    "def add(x, y):\n",
    "    result = x + y\n",
    "    print(result)\n",
    "    return result\n",
    "\n",
    "def subtract(x, y):\n",
    "    result = x - y\n",
    "    print(result)\n",
    "    return result\n",
    "\n",
    "def multiply(x, y):\n",
    "    result = x * y\n",
    "    print(result)\n",
    "    return result\n",
    "\n",
    "def divide(x, y):\n",
    "    warnings.simplefilter(\"error\")\n",
    "    result = 0\n",
    "    \n",
    "    try:\n",
    "        result = x / y\n",
    "    except:\n",
    "        print(f\"{x} cannot be divided by {y}! Forcing kernel to stop!\")\n",
    "        warnings.resetwarnings()\n",
    "        exit()\n",
    "    \n",
    "    print(result)\n",
    "    warnings.resetwarnings()\n",
    "    return result\n",
    "\n",
    "x=np.array([36, 34, 44, 76, 27])\n",
    "y=np.array([64, 66, 56, 24, 73])\n",
    "\n",
    "add(x, y)\n",
    "subtract(x, y)\n",
    "multiply(x, y)\n",
    "divide(x, y)"
   ]
  },
  {
   "cell_type": "markdown",
   "id": "3c0a5719",
   "metadata": {},
   "source": [
    "## Exercise 3 :  max_info() with NumPy"
   ]
  },
  {
   "cell_type": "code",
   "execution_count": 2,
   "id": "58fa1100",
   "metadata": {},
   "outputs": [
    {
     "name": "stdout",
     "output_type": "stream",
     "text": [
      "Maximum Number: 83\n",
      "Index of Maximum Number: 2\n"
     ]
    }
   ],
   "source": [
    "import numpy as np\n",
    "\n",
    "numbers = np.array([40, 27, 83, 44, 74, 51, 76, 77, 10, 49])\n",
    "\n",
    "def max_info(a):\n",
    "    return a.max(), a.argmax()\n",
    "\n",
    "max_num, max_index = max_info(numbers)\n",
    "print(f\"Maximum Number: {max_num}\\nIndex of Maximum Number: {max_index}\")"
   ]
  }
 ],
 "metadata": {
  "kernelspec": {
   "display_name": "Python 3 (ipykernel)",
   "language": "python",
   "name": "python3"
  },
  "language_info": {
   "codemirror_mode": {
    "name": "ipython",
    "version": 3
   },
   "file_extension": ".py",
   "mimetype": "text/x-python",
   "name": "python",
   "nbconvert_exporter": "python",
   "pygments_lexer": "ipython3",
   "version": "3.10.8"
  },
  "toc": {
   "base_numbering": 1,
   "nav_menu": {},
   "number_sections": true,
   "sideBar": true,
   "skip_h1_title": false,
   "title_cell": "Table of Contents",
   "title_sidebar": "Contents",
   "toc_cell": false,
   "toc_position": {},
   "toc_section_display": true,
   "toc_window_display": false
  },
  "varInspector": {
   "cols": {
    "lenName": 16,
    "lenType": 16,
    "lenVar": 40
   },
   "kernels_config": {
    "python": {
     "delete_cmd_postfix": "",
     "delete_cmd_prefix": "del ",
     "library": "var_list.py",
     "varRefreshCmd": "print(var_dic_list())"
    },
    "r": {
     "delete_cmd_postfix": ") ",
     "delete_cmd_prefix": "rm(",
     "library": "var_list.r",
     "varRefreshCmd": "cat(var_dic_list()) "
    }
   },
   "types_to_exclude": [
    "module",
    "function",
    "builtin_function_or_method",
    "instance",
    "_Feature"
   ],
   "window_display": false
  },
  "vscode": {
   "interpreter": {
    "hash": "31f2aee4e71d21fbe5cf8b01ff0e069b9275f58929596ceb00d14d90e3e16cd6"
   }
  }
 },
 "nbformat": 4,
 "nbformat_minor": 5
}
