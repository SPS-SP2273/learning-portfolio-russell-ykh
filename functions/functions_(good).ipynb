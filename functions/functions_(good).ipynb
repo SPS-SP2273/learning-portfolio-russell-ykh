{
 "cells": [
  {
   "cell_type": "markdown",
   "id": "123456",
   "metadata": {},
   "source": [
    "<div style=\"text-align:left;font-size:2em\"><span style=\"font-weight:bolder;font-size:1.25em\">SP2273 | Learning Portfolio</span><br><br><span style=\"font-weight:bold;color:darkred\">Functions (Good)</span></div>"
   ]
  },
  {
   "cell_type": "markdown",
   "id": "b1b2c420",
   "metadata": {},
   "source": [
    "## 1 Check, balances and contingencies"
   ]
  },
  {
   "cell_type": "markdown",
   "id": "fea4fe14",
   "metadata": {},
   "source": [
    "### 1.1 assert"
   ]
  },
  {
   "cell_type": "code",
   "execution_count": 6,
   "id": "8a9cd256",
   "metadata": {},
   "outputs": [],
   "source": [
    "# Your code here\n",
    "x = 5\n",
    "\n",
    "assert x>=0, \"No negative values! This is an all-natural supermarket!!!\""
   ]
  },
  {
   "cell_type": "markdown",
   "id": "ecb7f306",
   "metadata": {},
   "source": [
    "### 1.2 try-except"
   ]
  },
  {
   "cell_type": "code",
   "execution_count": 1,
   "id": "8e0d8ca5",
   "metadata": {
    "scrolled": true
   },
   "outputs": [
    {
     "name": "stdout",
     "output_type": "stream",
     "text": [
      "Give me a number and I will calculate its square.h\n",
      "Oh oh! I cannot square h!\n"
     ]
    }
   ],
   "source": [
    "\n",
    "# Your code here\n",
    "try:\n",
    "    number=input(\"Give me a number and I will calculate its square.\")\n",
    "    square=int(number)**2\n",
    "    print(f'The square of {number} is {square}!')\n",
    "except:\n",
    "    print(f\"Oh oh! I cannot square {number}!\")"
   ]
  },
  {
   "cell_type": "markdown",
   "id": "071f447c",
   "metadata": {},
   "source": [
    "## 2 Some loose ends"
   ]
  },
  {
   "cell_type": "markdown",
   "id": "c3d4d018",
   "metadata": {},
   "source": [
    "### 2.1 Positional, keyword and default arguments"
   ]
  },
  {
   "cell_type": "code",
   "execution_count": 8,
   "id": "a8ff873b",
   "metadata": {},
   "outputs": [
    {
     "data": {
      "text/plain": [
       "121"
      ]
     },
     "execution_count": 8,
     "metadata": {},
     "output_type": "execute_result"
    }
   ],
   "source": [
    "# Yes, this is true\n",
    "def funny_add(a, b, c=1):\n",
    "    return a + 10*b + 100*c\n",
    "\n",
    "funny_add(1, 2)           # Two positional, 1 default\n",
    "#> 121\n",
    "funny_add(1, 2, 3)        # Three positional\n",
    "#> 321\n",
    "funny_add(a=1, b=2)       # Two keyword, 1 default\n",
    "#> 121\n",
    "funny_add(c=3, b=1, a=2)  # Three keyword\n",
    "#> 312\n",
    "funny_add(1, c=3, b=2)    # One positional, 2 keyword\n",
    "#> 321\n",
    "funny_add(1, b=2)         # One positional, 1 keyword, 1 default\n",
    "#> 121"
   ]
  },
  {
   "cell_type": "markdown",
   "id": "9cd0dbdd",
   "metadata": {},
   "source": [
    "### 2.2 Docstrings"
   ]
  },
  {
   "cell_type": "code",
   "execution_count": 7,
   "id": "98ed7c33",
   "metadata": {},
   "outputs": [
    {
     "name": "stdout",
     "output_type": "stream",
     "text": [
      "Help on function funny_add in module __main__:\n",
      "\n",
      "funny_add(a, b, c=1)\n",
      "    A test function to demonstrate how \n",
      "    positional, keyword and default arguments \n",
      "    work.\n",
      "\n"
     ]
    }
   ],
   "source": [
    "# if i'm being honest i will probably not remember to do this\n",
    "\n",
    "def funny_add(a, b, c=1):\n",
    "    '''\n",
    "    A test function to demonstrate how \n",
    "    positional, keyword and default arguments \n",
    "    work.\n",
    "    '''\n",
    "    return a + 10*b + 100*c\n",
    "\n",
    "help(funny_add)"
   ]
  },
  {
   "cell_type": "markdown",
   "id": "8041dad8",
   "metadata": {},
   "source": [
    "### 2.3 Function are first class citizens"
   ]
  },
  {
   "cell_type": "code",
   "execution_count": 31,
   "id": "1930f7aa",
   "metadata": {},
   "outputs": [
    {
     "data": {
      "text/plain": [
       "[\"won't.\",\n",
       " 'yOu.',\n",
       " 'CoMe.',\n",
       " 'sEE.',\n",
       " 'About.',\n",
       " 'me.',\n",
       " \"i'll be alone.\",\n",
       " 'danC ing.',\n",
       " 'you know it baby.',\n",
       " 'tell me.',\n",
       " 'your troubles and doubts.',\n",
       " 'giving me everything.',\n",
       " 'inside.',\n",
       " 'and.',\n",
       " 'out.',\n",
       " 'da - da.']"
      ]
     },
     "execution_count": 31,
     "metadata": {},
     "output_type": "execute_result"
    }
   ],
   "source": [
    "# this is very cool and very freeing\n",
    "\n",
    "import numpy as np\n",
    "\n",
    "def sentence_case(string):\n",
    "    new = string.capitalize()\n",
    "    \n",
    "    if(len(string) > 1):\n",
    "        new = new[0] + string[1:].lower()\n",
    "\n",
    "    return new\n",
    "\n",
    "def punctuate(string):\n",
    "    return string + \".\"\n",
    "\n",
    "def manipulate_words(str_list,func):\n",
    "    new_list = []\n",
    "    \n",
    "    for word in str_list:\n",
    "        new_list.append(func(word))\n",
    "    return new_list\n",
    "\n",
    "a = [\"won't\", \"yOu\", \"CoMe\", \"sEE\", \"About\", \"me\", \n",
    "              \"i'll be alone\", \"danC ing\", \"you know it baby\",\n",
    "    \"tell me\", \"your troubles and doubts\", \"giving me everything\",\n",
    "    \"inside\", \"and\", \"out\", \"da - da\"]\n",
    "\n",
    "manipulate_words(a,punctuate)"
   ]
  },
  {
   "cell_type": "markdown",
   "id": "dbe4c4f1",
   "metadata": {},
   "source": [
    "### 2.4 More unpacking"
   ]
  },
  {
   "cell_type": "code",
   "execution_count": 35,
   "id": "90f4a081",
   "metadata": {},
   "outputs": [
    {
     "name": "stdout",
     "output_type": "stream",
     "text": [
      "1 2 [3, 4] 5\n",
      "1 5\n"
     ]
    }
   ],
   "source": [
    "\n",
    "# Your code here\n",
    "# cool stuff - you can make a variable stretch across everything that isn't defined by adding * behind\n",
    "w, x, *y, z = np.array([1, 2, 3, 4, 5])\n",
    "print(w, x, y, z)\n",
    "\n",
    "# Ignore something entirely with *_\n",
    "x, *_, y = [1, 2, 3, 4, 5]\n",
    "print(x, y)"
   ]
  },
  {
   "cell_type": "markdown",
   "id": "c6b1a97d",
   "metadata": {},
   "source": [
    "## Exercise 1 :  A better calculator I"
   ]
  },
  {
   "cell_type": "code",
   "execution_count": 38,
   "id": "403f35ca",
   "metadata": {},
   "outputs": [
    {
     "name": "stdout",
     "output_type": "stream",
     "text": [
      "[100 100 100 100 100]\n",
      "[-28 -32 -12  52 -46]\n",
      "[2304 2244 2464 1824 1971]\n",
      "[0.5625     0.51515152 0.78571429 3.16666667 0.36986301]\n"
     ]
    },
    {
     "data": {
      "text/plain": [
       "array([0.5625    , 0.51515152, 0.78571429, 3.16666667, 0.36986301])"
      ]
     },
     "execution_count": 38,
     "metadata": {},
     "output_type": "execute_result"
    }
   ],
   "source": [
    "#dum dum dum dadada dadada DADADA dadada dadada\n",
    "#boss music plays\n",
    "import numpy as np\n",
    "\n",
    "def add(x, y):\n",
    "    result = x + y\n",
    "    print(result)\n",
    "    return result\n",
    "\n",
    "def subtract(x, y):\n",
    "    result = x - y\n",
    "    print(result)\n",
    "    return result\n",
    "\n",
    "def multiply(x, y):\n",
    "    result = x * y\n",
    "    print(result)\n",
    "    return result\n",
    "\n",
    "def divide(x, y):\n",
    "    assert 0 not in y, f\"{x} cannot be divided by {y}! Returning null value\"\n",
    "    \n",
    "    result = x/y\n",
    "    print(result)\n",
    "    return result\n",
    "\n",
    "x=np.array([36, 34, 44, 76, 27])\n",
    "y=np.array([64, 66, 56, 24, 73])\n",
    "\n",
    "add(x, y)\n",
    "subtract(x, y)\n",
    "multiply(x, y)\n",
    "divide(x, y)\n",
    "\n"
   ]
  },
  {
   "cell_type": "markdown",
   "id": "23918b32",
   "metadata": {},
   "source": [
    "## Exercise 2 :  A better calculator II"
   ]
  },
  {
   "cell_type": "code",
   "execution_count": 43,
   "id": "ca7eb924",
   "metadata": {},
   "outputs": [
    {
     "name": "stdout",
     "output_type": "stream",
     "text": [
      "[100 100 100 100 100]\n",
      "[-28 -32 -12  52 -46]\n",
      "[2304 2244 2464 1824 1971]\n",
      "[0.5625     0.51515152 0.78571429 3.16666667 0.36986301]\n",
      "5 cannot be divided by 0! Returning null value\n"
     ]
    }
   ],
   "source": [
    "import numpy as np\n",
    "\n",
    "def add(x, y):\n",
    "    result = x + y\n",
    "    print(result)\n",
    "    return result\n",
    "\n",
    "def subtract(x, y):\n",
    "    result = x - y\n",
    "    print(result)\n",
    "    return result\n",
    "\n",
    "def multiply(x, y):\n",
    "    result = x * y\n",
    "    print(result)\n",
    "    return result\n",
    "\n",
    "def divide(x, y):\n",
    "    result = 0\n",
    "    \n",
    "    try:\n",
    "        result = x/y\n",
    "    except ZeroDivisionError: #this doesn't work for numpy arrays because they handle division by zero internally and just... don't throw exceptions?\n",
    "        print(f\"{x} cannot be divided by {y}! Returning null value\")\n",
    "        return None\n",
    "    \n",
    "    print(result)\n",
    "    return result\n",
    "\n",
    "x=np.array([36, 34, 44, 76, 27])\n",
    "y=np.array([64, 66, 56, 24, 73])\n",
    "\n",
    "add(x, y)\n",
    "subtract(x, y)\n",
    "multiply(x, y)\n",
    "divide(x, y)\n",
    "\n",
    "divide(5,0) #sample case"
   ]
  }
 ],
 "metadata": {
  "kernelspec": {
   "display_name": "Python 3 (ipykernel)",
   "language": "python",
   "name": "python3"
  },
  "language_info": {
   "codemirror_mode": {
    "name": "ipython",
    "version": 3
   },
   "file_extension": ".py",
   "mimetype": "text/x-python",
   "name": "python",
   "nbconvert_exporter": "python",
   "pygments_lexer": "ipython3",
   "version": "3.10.8"
  },
  "toc": {
   "base_numbering": 1,
   "nav_menu": {},
   "number_sections": true,
   "sideBar": true,
   "skip_h1_title": false,
   "title_cell": "Table of Contents",
   "title_sidebar": "Contents",
   "toc_cell": false,
   "toc_position": {},
   "toc_section_display": true,
   "toc_window_display": false
  },
  "varInspector": {
   "cols": {
    "lenName": 16,
    "lenType": 16,
    "lenVar": 40
   },
   "kernels_config": {
    "python": {
     "delete_cmd_postfix": "",
     "delete_cmd_prefix": "del ",
     "library": "var_list.py",
     "varRefreshCmd": "print(var_dic_list())"
    },
    "r": {
     "delete_cmd_postfix": ") ",
     "delete_cmd_prefix": "rm(",
     "library": "var_list.r",
     "varRefreshCmd": "cat(var_dic_list()) "
    }
   },
   "types_to_exclude": [
    "module",
    "function",
    "builtin_function_or_method",
    "instance",
    "_Feature"
   ],
   "window_display": false
  },
  "vscode": {
   "interpreter": {
    "hash": "31f2aee4e71d21fbe5cf8b01ff0e069b9275f58929596ceb00d14d90e3e16cd6"
   }
  }
 },
 "nbformat": 4,
 "nbformat_minor": 5
}
