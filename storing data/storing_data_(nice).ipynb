{
 "cells": [
  {
   "cell_type": "markdown",
   "id": "123456",
   "metadata": {},
   "source": [
    "<div style=\"text-align:left;font-size:2em\"><span style=\"font-weight:bolder;font-size:1.25em\">SP2273 | Learning Portfolio</span><br><br><span style=\"font-weight:bold;color:darkred\">Storing Data (Nice)</span></div>"
   ]
  },
  {
   "cell_type": "markdown",
   "id": "7eb3a968",
   "metadata": {},
   "source": [
    "## 1 Classes"
   ]
  },
  {
   "cell_type": "markdown",
   "id": "2574dd34",
   "metadata": {},
   "source": [
    "### 1.1 A grave injustice"
   ]
  },
  {
   "cell_type": "code",
   "execution_count": null,
   "id": "39698606",
   "metadata": {},
   "outputs": [],
   "source": [
    "#ok, this is fair"
   ]
  },
  {
   "cell_type": "markdown",
   "id": "30aabfb3",
   "metadata": {},
   "source": [
    "### 1.2 A particle class"
   ]
  },
  {
   "cell_type": "code",
   "execution_count": 9,
   "id": "ff0a861e",
   "metadata": {},
   "outputs": [
    {
     "name": "stdout",
     "output_type": "stream",
     "text": [
      "Particle has mass 1, radius 1, and is at position 1\n"
     ]
    }
   ],
   "source": [
    "class Particle1D:\n",
    "    mass, position, radius = 0, 0, 0\n",
    "    \n",
    "    def __init__(self, m, p, r):\n",
    "        self.mass = m\n",
    "        self.position = p\n",
    "        self.radius = r\n",
    "        \n",
    "    def __str__(self):\n",
    "        return f\"Particle has mass {self.mass}, radius {self.radius}, and is at position {self.position}\"\n",
    "    \n",
    "p = Particle1D(1,1,1)\n",
    "print(p)"
   ]
  },
  {
   "cell_type": "markdown",
   "id": "c1a00df0",
   "metadata": {},
   "source": [
    "### 1.3 Class vs Object variables"
   ]
  },
  {
   "cell_type": "code",
   "execution_count": null,
   "id": "1505abb1",
   "metadata": {},
   "outputs": [],
   "source": [
    "\n",
    "# Your code here\n"
   ]
  },
  {
   "cell_type": "markdown",
   "id": "40cfcd54",
   "metadata": {},
   "source": [
    "### 1.4 Making it more scalable"
   ]
  },
  {
   "cell_type": "code",
   "execution_count": 13,
   "id": "2da510a0",
   "metadata": {},
   "outputs": [
    {
     "name": "stdout",
     "output_type": "stream",
     "text": [
      "Particle has mass 3, radius 4, and is at position 4\n",
      "Particle has mass 4, radius 9, and is at position 1\n",
      "Particle has mass 8, radius 6, and is at position 3\n",
      "Particle has mass 0, radius 4, and is at position 7\n",
      "Particle has mass 2, radius 9, and is at position 5\n",
      "Particle has mass 2, radius 6, and is at position 6\n",
      "Particle has mass 0, radius 8, and is at position 8\n",
      "Particle has mass 0, radius 1, and is at position 5\n",
      "Particle has mass 6, radius 8, and is at position 3\n",
      "Particle has mass 0, radius 8, and is at position 5\n",
      "Particle has mass 8, radius 4, and is at position 7\n",
      "Particle has mass 5, radius 7, and is at position 5\n",
      "Particle has mass 2, radius 2, and is at position 4\n",
      "Particle has mass 8, radius 5, and is at position 7\n",
      "Particle has mass 1, radius 9, and is at position 2\n",
      "Particle has mass 9, radius 2, and is at position 6\n",
      "Particle has mass 4, radius 1, and is at position 9\n",
      "Particle has mass 7, radius 4, and is at position 8\n",
      "Particle has mass 2, radius 3, and is at position 8\n",
      "Particle has mass 7, radius 9, and is at position 4\n",
      "Particle has mass 6, radius 7, and is at position 9\n",
      "Particle has mass 1, radius 4, and is at position 6\n",
      "Particle has mass 7, radius 7, and is at position 2\n",
      "Particle has mass 4, radius 8, and is at position 2\n",
      "Particle has mass 9, radius 6, and is at position 4\n",
      "Particle has mass 3, radius 0, and is at position 5\n",
      "Particle has mass 2, radius 0, and is at position 4\n",
      "Particle has mass 7, radius 3, and is at position 8\n",
      "Particle has mass 7, radius 1, and is at position 7\n",
      "Particle has mass 9, radius 5, and is at position 7\n",
      "Particle has mass 2, radius 8, and is at position 7\n",
      "Particle has mass 3, radius 1, and is at position 2\n",
      "Particle has mass 5, radius 1, and is at position 3\n",
      "Particle has mass 6, radius 3, and is at position 8\n",
      "Particle has mass 0, radius 5, and is at position 0\n",
      "Particle has mass 4, radius 2, and is at position 4\n",
      "Particle has mass 6, radius 2, and is at position 8\n",
      "Particle has mass 6, radius 6, and is at position 9\n",
      "Particle has mass 6, radius 6, and is at position 1\n",
      "Particle has mass 0, radius 5, and is at position 9\n",
      "Particle has mass 7, radius 7, and is at position 3\n",
      "Particle has mass 2, radius 3, and is at position 1\n",
      "Particle has mass 9, radius 2, and is at position 9\n",
      "Particle has mass 3, radius 6, and is at position 2\n",
      "Particle has mass 0, radius 0, and is at position 3\n",
      "Particle has mass 1, radius 8, and is at position 6\n",
      "Particle has mass 6, radius 9, and is at position 2\n",
      "Particle has mass 7, radius 9, and is at position 7\n",
      "Particle has mass 9, radius 4, and is at position 3\n",
      "Particle has mass 7, radius 6, and is at position 3\n"
     ]
    }
   ],
   "source": [
    "import random\n",
    "\n",
    "class Particle1D:\n",
    "    mass, position, radius = 0, 0, 0\n",
    "    \n",
    "    def __init__(self, m, p, r):\n",
    "        self.mass = m\n",
    "        self.position = p\n",
    "        self.radius = r\n",
    "        \n",
    "    def __str__(self):\n",
    "        return f\"Particle has mass {self.mass}, radius {self.radius}, and is at position {self.position}\"\n",
    "\n",
    "particles = []\n",
    "\n",
    "def newParticle():\n",
    "    m = random.randrange(0,10)\n",
    "    p = random.randrange(0,10)\n",
    "    r = random.randrange(0,10)\n",
    "    particle = Particle1D(m,p,r)\n",
    "    particles.append(particle)\n",
    "    print(particle)\n",
    "\n",
    "for i in range(0, 50):\n",
    "    newParticle();"
   ]
  }
 ],
 "metadata": {
  "kernelspec": {
   "display_name": "Python 3 (ipykernel)",
   "language": "python",
   "name": "python3"
  },
  "language_info": {
   "codemirror_mode": {
    "name": "ipython",
    "version": 3
   },
   "file_extension": ".py",
   "mimetype": "text/x-python",
   "name": "python",
   "nbconvert_exporter": "python",
   "pygments_lexer": "ipython3",
   "version": "3.10.8"
  },
  "toc": {
   "base_numbering": 1,
   "nav_menu": {},
   "number_sections": true,
   "sideBar": true,
   "skip_h1_title": false,
   "title_cell": "Table of Contents",
   "title_sidebar": "Contents",
   "toc_cell": false,
   "toc_position": {},
   "toc_section_display": true,
   "toc_window_display": false
  },
  "varInspector": {
   "cols": {
    "lenName": 16,
    "lenType": 16,
    "lenVar": 40
   },
   "kernels_config": {
    "python": {
     "delete_cmd_postfix": "",
     "delete_cmd_prefix": "del ",
     "library": "var_list.py",
     "varRefreshCmd": "print(var_dic_list())"
    },
    "r": {
     "delete_cmd_postfix": ") ",
     "delete_cmd_prefix": "rm(",
     "library": "var_list.r",
     "varRefreshCmd": "cat(var_dic_list()) "
    }
   },
   "types_to_exclude": [
    "module",
    "function",
    "builtin_function_or_method",
    "instance",
    "_Feature"
   ],
   "window_display": false
  },
  "vscode": {
   "interpreter": {
    "hash": "31f2aee4e71d21fbe5cf8b01ff0e069b9275f58929596ceb00d14d90e3e16cd6"
   }
  }
 },
 "nbformat": 4,
 "nbformat_minor": 5
}
