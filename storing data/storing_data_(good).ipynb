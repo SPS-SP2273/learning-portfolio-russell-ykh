{
 "cells": [
  {
   "cell_type": "markdown",
   "id": "123456",
   "metadata": {},
   "source": [
    "<div style=\"text-align:left;font-size:2em\"><span style=\"font-weight:bolder;font-size:1.25em\">SP2273 | Learning Portfolio</span><br><br><span style=\"font-weight:bold;color:darkred\">Storing Data (Good)</span></div>"
   ]
  },
  {
   "cell_type": "markdown",
   "id": "88630fe2",
   "metadata": {},
   "source": [
    "## 1 Subsetting: Indexing and Slicing"
   ]
  },
  {
   "cell_type": "markdown",
   "id": "9bd07e30",
   "metadata": {},
   "source": [
    "### 1.1 Indexing & Slicing 1D (Lists & Arrays)"
   ]
  },
  {
   "cell_type": "code",
   "execution_count": null,
   "id": "fff037af",
   "metadata": {},
   "outputs": [],
   "source": [
    "\n",
    "# Your code here\n"
   ]
  },
  {
   "cell_type": "markdown",
   "id": "6997d733",
   "metadata": {},
   "source": [
    "### 1.2 Subsetting by masking (Arrays only)"
   ]
  },
  {
   "cell_type": "code",
   "execution_count": null,
   "id": "4be6a02f",
   "metadata": {},
   "outputs": [],
   "source": [
    "\n",
    "# Your code here\n"
   ]
  },
  {
   "cell_type": "markdown",
   "id": "61108997",
   "metadata": {},
   "source": [
    "### 1.3 Indexing & Slicing 2D Lists"
   ]
  },
  {
   "cell_type": "code",
   "execution_count": null,
   "id": "5786fa5d",
   "metadata": {},
   "outputs": [],
   "source": [
    "\n",
    "# Your code here\n"
   ]
  },
  {
   "cell_type": "markdown",
   "id": "719c6822",
   "metadata": {},
   "source": [
    "### 1.4 Indexing & Slicing 2D Arrays"
   ]
  },
  {
   "cell_type": "code",
   "execution_count": null,
   "id": "42b6a50a",
   "metadata": {},
   "outputs": [],
   "source": [
    "\n",
    "# Your code here\n"
   ]
  },
  {
   "cell_type": "markdown",
   "id": "ec5dfd4f",
   "metadata": {},
   "source": [
    "### 1.5 Growing lists"
   ]
  },
  {
   "cell_type": "code",
   "execution_count": null,
   "id": "7f0d490f",
   "metadata": {},
   "outputs": [],
   "source": [
    "\n",
    "# Your code here\n"
   ]
  },
  {
   "cell_type": "markdown",
   "id": "65befd3c",
   "metadata": {},
   "source": [
    "## 2 Some loose ends"
   ]
  },
  {
   "cell_type": "markdown",
   "id": "8886c717",
   "metadata": {},
   "source": [
    "### 2.1 Tuples"
   ]
  },
  {
   "cell_type": "code",
   "execution_count": null,
   "id": "6b3203fe",
   "metadata": {},
   "outputs": [],
   "source": [
    "\n",
    "# Your code here\n"
   ]
  },
  {
   "cell_type": "markdown",
   "id": "c9097b81",
   "metadata": {},
   "source": [
    "### 2.2 Be VERY careful when copying"
   ]
  },
  {
   "cell_type": "code",
   "execution_count": null,
   "id": "e161ee27",
   "metadata": {},
   "outputs": [],
   "source": [
    "\n",
    "# Your code here\n"
   ]
  },
  {
   "cell_type": "markdown",
   "id": "36ff2d5b",
   "metadata": {},
   "source": [
    "## Exercise 1 :  Total recall?"
   ]
  },
  {
   "cell_type": "code",
   "execution_count": null,
   "id": "ce08180e",
   "metadata": {},
   "outputs": [],
   "source": [
    "\n",
    "\n",
    "\n",
    "# Your solution here\n",
    "\n",
    "\n"
   ]
  },
  {
   "cell_type": "markdown",
   "id": "97ad6581",
   "metadata": {},
   "source": [
    "## Exercise 2 :  Show me the ‘odd’ letters"
   ]
  },
  {
   "cell_type": "code",
   "execution_count": null,
   "id": "6f090ddf",
   "metadata": {},
   "outputs": [],
   "source": [
    "\n",
    "\n",
    "\n",
    "# Your solution here\n",
    "\n",
    "\n"
   ]
  }
 ],
 "metadata": {
  "kernelspec": {
   "display_name": "Python 3 (ipykernel)",
   "language": "python",
   "name": "python3"
  },
  "language_info": {
   "codemirror_mode": {
    "name": "ipython",
    "version": 3
   },
   "file_extension": ".py",
   "mimetype": "text/x-python",
   "name": "python",
   "nbconvert_exporter": "python",
   "pygments_lexer": "ipython3",
   "version": "3.10.8"
  },
  "toc": {
   "base_numbering": 1,
   "nav_menu": {},
   "number_sections": true,
   "sideBar": true,
   "skip_h1_title": false,
   "title_cell": "Table of Contents",
   "title_sidebar": "Contents",
   "toc_cell": false,
   "toc_position": {},
   "toc_section_display": true,
   "toc_window_display": false
  },
  "varInspector": {
   "cols": {
    "lenName": 16,
    "lenType": 16,
    "lenVar": 40
   },
   "kernels_config": {
    "python": {
     "delete_cmd_postfix": "",
     "delete_cmd_prefix": "del ",
     "library": "var_list.py",
     "varRefreshCmd": "print(var_dic_list())"
    },
    "r": {
     "delete_cmd_postfix": ") ",
     "delete_cmd_prefix": "rm(",
     "library": "var_list.r",
     "varRefreshCmd": "cat(var_dic_list()) "
    }
   },
   "types_to_exclude": [
    "module",
    "function",
    "builtin_function_or_method",
    "instance",
    "_Feature"
   ],
   "window_display": false
  },
  "vscode": {
   "interpreter": {
    "hash": "31f2aee4e71d21fbe5cf8b01ff0e069b9275f58929596ceb00d14d90e3e16cd6"
   }
  }
 },
 "nbformat": 4,
 "nbformat_minor": 5
}
