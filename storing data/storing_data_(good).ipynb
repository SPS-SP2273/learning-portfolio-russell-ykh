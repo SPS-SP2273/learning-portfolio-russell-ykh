{
 "cells": [
  {
   "cell_type": "markdown",
   "id": "123456",
   "metadata": {},
   "source": [
    "<div style=\"text-align:left;font-size:2em\"><span style=\"font-weight:bolder;font-size:1.25em\">SP2273 | Learning Portfolio</span><br><br><span style=\"font-weight:bold;color:darkred\">Storing Data (Good)</span></div>"
   ]
  },
  {
   "cell_type": "markdown",
   "id": "88630fe2",
   "metadata": {},
   "source": [
    "## 1 Subsetting: Indexing and Slicing"
   ]
  },
  {
   "cell_type": "markdown",
   "id": "9bd07e30",
   "metadata": {},
   "source": [
    "### 1.1 Indexing & Slicing 1D (Lists & Arrays)"
   ]
  },
  {
   "cell_type": "code",
   "execution_count": null,
   "id": "fff037af",
   "metadata": {},
   "outputs": [],
   "source": [
    "\n",
    "# Your code here\n"
   ]
  },
  {
   "cell_type": "markdown",
   "id": "6997d733",
   "metadata": {},
   "source": [
    "### 1.2 Subsetting by masking (Arrays only)"
   ]
  },
  {
   "cell_type": "code",
   "execution_count": 9,
   "id": "4be6a02f",
   "metadata": {
    "scrolled": false
   },
   "outputs": [
    {
     "name": "stdout",
     "output_type": "stream",
     "text": [
      "[ True False False  True False False  True False False  True False False\n",
      "  True False False  True False False  True False False  True False False\n",
      "  True False False  True False False  True False False  True False False\n",
      "  True False False  True False False  True False False  True False False\n",
      "  True False False  True False False  True False False  True False False\n",
      "  True False False  True False False  True False False  True False False\n",
      "  True False False  True False False  True False False  True False False\n",
      "  True False False  True False False  True False False  True False False\n",
      "  True False False  True]\n"
     ]
    }
   ],
   "source": [
    "import numpy\n",
    "\n",
    "ary = numpy.array(range(0,100))\n",
    "\n",
    "print(ary % 3 == 0)"
   ]
  },
  {
   "cell_type": "markdown",
   "id": "61108997",
   "metadata": {},
   "source": [
    "### 1.3 Indexing & Slicing 2D Lists"
   ]
  },
  {
   "cell_type": "code",
   "execution_count": 27,
   "id": "5786fa5d",
   "metadata": {},
   "outputs": [
    {
     "name": "stdout",
     "output_type": "stream",
     "text": [
      "15\n",
      "13\n",
      "44\n"
     ]
    }
   ],
   "source": [
    "import numpy as np\n",
    "import random as r\n",
    "\n",
    "l = [[x, x**2] for x in range(0, 50)]\n",
    "\n",
    "for i in range(0, 3):\n",
    "    thing = r.randrange(len(l))\n",
    "    majig = r.randrange(len(l[thing]))\n",
    "    print(a[thing][majig])"
   ]
  },
  {
   "cell_type": "markdown",
   "id": "719c6822",
   "metadata": {},
   "source": [
    "### 1.4 Indexing & Slicing 2D Arrays"
   ]
  },
  {
   "cell_type": "code",
   "execution_count": 28,
   "id": "42b6a50a",
   "metadata": {},
   "outputs": [
    {
     "name": "stdout",
     "output_type": "stream",
     "text": [
      "41\n",
      "12\n",
      "27\n"
     ]
    }
   ],
   "source": [
    "import numpy as np\n",
    "import random as r\n",
    "\n",
    "a = np.array([[x, x**2] for x in range(0, 50)])\n",
    "\n",
    "for i in range(0, 3):\n",
    "    thing = r.randrange(len(a))\n",
    "    majig = r.randrange(len(a[thing]))\n",
    "    print(a[thing][majig])\n"
   ]
  },
  {
   "cell_type": "markdown",
   "id": "ec5dfd4f",
   "metadata": {},
   "source": [
    "### 1.5 Growing lists"
   ]
  },
  {
   "cell_type": "code",
   "execution_count": 30,
   "id": "7f0d490f",
   "metadata": {},
   "outputs": [
    {
     "name": "stdout",
     "output_type": "stream",
     "text": [
      "[0, 5, 10, 15, 20, 25, 30, 35, 40, 45, 0, 5, 10, 15, 20, 25, 30, 35, 40, 45, 0, 5, 10, 15, 20, 25, 30, 35, 40, 45]\n",
      "[0, 5, 10, 15, 20, 25, 30, 35, 40, 45, 6, 7, 8]\n"
     ]
    }
   ],
   "source": [
    "l = [x*5 for x in range(0,10)]\n",
    "\n",
    "print(l*3)\n",
    "\n",
    "l += [6, 7, 8]\n",
    "\n",
    "print(l)"
   ]
  },
  {
   "cell_type": "markdown",
   "id": "65befd3c",
   "metadata": {},
   "source": [
    "## 2 Some loose ends"
   ]
  },
  {
   "cell_type": "markdown",
   "id": "8886c717",
   "metadata": {},
   "source": [
    "### 2.1 Tuples"
   ]
  },
  {
   "cell_type": "code",
   "execution_count": 31,
   "id": "6b3203fe",
   "metadata": {},
   "outputs": [
    {
     "name": "stdout",
     "output_type": "stream",
     "text": [
      "(0, True)\n",
      "(1, False, False)\n",
      "(5, False, True)\n"
     ]
    }
   ],
   "source": [
    "#tuples are final\n",
    "#idk if final is a python term lol\n",
    "tup = (0,True)\n",
    "tuptup = (1, False, False)\n",
    "tuptuptup = (5, False, True)\n",
    "\n",
    "print(tup)\n",
    "print(tuptup)\n",
    "print(tuptuptup)"
   ]
  },
  {
   "cell_type": "markdown",
   "id": "c9097b81",
   "metadata": {},
   "source": [
    "### 2.2 Be VERY careful when copying"
   ]
  },
  {
   "cell_type": "code",
   "execution_count": 34,
   "id": "e161ee27",
   "metadata": {},
   "outputs": [
    {
     "name": "stdout",
     "output_type": "stream",
     "text": [
      "[1, 2, 3, 4]\n",
      "[1, 2, 3]\n",
      "None\n",
      "[1, 2, 3]\n"
     ]
    }
   ],
   "source": [
    "#copywopy\n",
    "x = [1,2,3]\n",
    "y = x.copy()\n",
    "\n",
    "def check():\n",
    "    print(x)\n",
    "    print(y)\n",
    "\n",
    "x += [4]\n",
    "\n",
    "check()\n",
    "\n",
    "x = None\n",
    "\n",
    "check()"
   ]
  },
  {
   "cell_type": "markdown",
   "id": "36ff2d5b",
   "metadata": {},
   "source": [
    "## Exercise 1 :  Total recall?"
   ]
  },
  {
   "cell_type": "markdown",
   "id": "6a6a852a",
   "metadata": {},
   "source": [
    "|**Term**|**Brief description**|\n",
    "|:--|:--|\n",
    "|Subsetting|Retrieving a section of a list/array that is smaller than or equal to the size of the entire list|\n",
    "|Indexing|Retrieving a single element of a list/array with its index int or the inverse index|\n",
    "|Slicing|Retrieiving multiple elements of a list/array by referencing a start index and end index|\n",
    "|Masking|Creating a list/array that holds boolean values corresponding to a condition about a list/array|"
   ]
  },
  {
   "cell_type": "markdown",
   "id": "97ad6581",
   "metadata": {},
   "source": [
    "## Exercise 2 :  Show me the ‘odd’ letters"
   ]
  },
  {
   "cell_type": "code",
   "execution_count": 66,
   "id": "6f090ddf",
   "metadata": {
    "scrolled": true
   },
   "outputs": [
    {
     "name": "stdout",
     "output_type": "stream",
     "text": [
      "[['1' 'A']\n",
      " ['3' 'C']\n",
      " ['5' 'E']\n",
      " ['7' 'G']\n",
      " ['9' 'I']]\n",
      "[ 0  1  4  9 16 25 36 49 64 81]\n"
     ]
    }
   ],
   "source": [
    "import numpy as np\n",
    "\n",
    "a = np.array([[1, \"A\"], [3, \"C\"], [2, \"B\"], [4, \"D\"],\n",
    "                        [5, \"E\"], [7, \"G\"], [6, \"F\"], [8, \"H\"],\n",
    "                        [10, \"J\"], [9, \"I\"]])\n",
    "\n",
    "#lazy method, will get back to this later\n",
    "b = []\n",
    "\n",
    "\n",
    "for [x,y] in a:\n",
    "    if int(x) % 2 == 1:\n",
    "        b.append([x,y])\n",
    "\n",
    "c = np.array(b)\n",
    "#print(c)\n",
    "\n",
    "#real method\n",
    "mask = a[:, 0].astype(int) % 2 == 1\n",
    "print(a[mask])\n",
    "\n",
    "#important learning point - you can reference other dims in nparray by doing array[range,dim]\n",
    "\n",
    "li = [[x,x*2,x**2] for x in range(0,10)]\n",
    "g = np.array(li)\n",
    "\n",
    "print(g[:,2])"
   ]
  }
 ],
 "metadata": {
  "kernelspec": {
   "display_name": "Python 3 (ipykernel)",
   "language": "python",
   "name": "python3"
  },
  "language_info": {
   "codemirror_mode": {
    "name": "ipython",
    "version": 3
   },
   "file_extension": ".py",
   "mimetype": "text/x-python",
   "name": "python",
   "nbconvert_exporter": "python",
   "pygments_lexer": "ipython3",
   "version": "3.10.8"
  },
  "toc": {
   "base_numbering": 1,
   "nav_menu": {},
   "number_sections": true,
   "sideBar": true,
   "skip_h1_title": false,
   "title_cell": "Table of Contents",
   "title_sidebar": "Contents",
   "toc_cell": false,
   "toc_position": {},
   "toc_section_display": true,
   "toc_window_display": false
  },
  "varInspector": {
   "cols": {
    "lenName": 16,
    "lenType": 16,
    "lenVar": 40
   },
   "kernels_config": {
    "python": {
     "delete_cmd_postfix": "",
     "delete_cmd_prefix": "del ",
     "library": "var_list.py",
     "varRefreshCmd": "print(var_dic_list())"
    },
    "r": {
     "delete_cmd_postfix": ") ",
     "delete_cmd_prefix": "rm(",
     "library": "var_list.r",
     "varRefreshCmd": "cat(var_dic_list()) "
    }
   },
   "types_to_exclude": [
    "module",
    "function",
    "builtin_function_or_method",
    "instance",
    "_Feature"
   ],
   "window_display": false
  },
  "vscode": {
   "interpreter": {
    "hash": "31f2aee4e71d21fbe5cf8b01ff0e069b9275f58929596ceb00d14d90e3e16cd6"
   }
  }
 },
 "nbformat": 4,
 "nbformat_minor": 5
}
