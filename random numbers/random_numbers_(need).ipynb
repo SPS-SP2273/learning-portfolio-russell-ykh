{
 "cells": [
  {
   "cell_type": "markdown",
   "id": "123456",
   "metadata": {},
   "source": [
    "<div style=\"text-align:left;font-size:2em\"><span style=\"font-weight:bolder;font-size:1.25em\">SP2273 | Learning Portfolio</span><br><br><span style=\"font-weight:bold;color:darkred\">Random Numbers (Need)</span></div>"
   ]
  },
  {
   "cell_type": "markdown",
   "id": "b626fc17",
   "metadata": {},
   "source": [
    "## 1 Random Numbers"
   ]
  },
  {
   "cell_type": "markdown",
   "id": "d48125d6",
   "metadata": {},
   "source": [
    "### 1.1 Real and Pseudo Random Numbers"
   ]
  },
  {
   "cell_type": "code",
   "execution_count": null,
   "id": "417a377e",
   "metadata": {},
   "outputs": [],
   "source": [
    "\n",
    "# Your code here\n"
   ]
  },
  {
   "cell_type": "markdown",
   "id": "0871c1c5",
   "metadata": {},
   "source": [
    "### 1.2 NumPy’s PRNG"
   ]
  },
  {
   "cell_type": "code",
   "execution_count": null,
   "id": "c5b67ea3",
   "metadata": {},
   "outputs": [],
   "source": [
    "\n",
    "# Your code here\n"
   ]
  },
  {
   "cell_type": "markdown",
   "id": "96455fc9",
   "metadata": {},
   "source": [
    "### 1.3 A simple graphical test"
   ]
  },
  {
   "cell_type": "code",
   "execution_count": null,
   "id": "3816850b",
   "metadata": {},
   "outputs": [],
   "source": [
    "\n",
    "# Your code here\n"
   ]
  },
  {
   "cell_type": "markdown",
   "id": "256aab4a",
   "metadata": {},
   "source": [
    "### 1.4 Uniformly beyond \\([0,1)\\)"
   ]
  },
  {
   "cell_type": "code",
   "execution_count": null,
   "id": "da6b29d2",
   "metadata": {},
   "outputs": [],
   "source": [
    "\n",
    "# Your code here\n"
   ]
  },
  {
   "cell_type": "markdown",
   "id": "411bb488",
   "metadata": {},
   "source": [
    "### 1.5 ‘seeding’ a PRNG"
   ]
  },
  {
   "cell_type": "code",
   "execution_count": null,
   "id": "6dbe6f9e",
   "metadata": {},
   "outputs": [],
   "source": [
    "\n",
    "# Your code here\n"
   ]
  },
  {
   "cell_type": "markdown",
   "id": "2d1e07e4",
   "metadata": {},
   "source": [
    "## 2 Simulating a Magic-8 Ball"
   ]
  },
  {
   "cell_type": "markdown",
   "id": "7691cbc0",
   "metadata": {},
   "source": [
    "## 3 Flipping Coins"
   ]
  },
  {
   "cell_type": "markdown",
   "id": "28d57b5e",
   "metadata": {},
   "source": [
    "### 3.1 A fair coin"
   ]
  },
  {
   "cell_type": "code",
   "execution_count": null,
   "id": "0e0338b1",
   "metadata": {},
   "outputs": [],
   "source": [
    "\n",
    "# Your code here\n"
   ]
  },
  {
   "cell_type": "markdown",
   "id": "d3d5da53",
   "metadata": {},
   "source": [
    "### 3.2 A biased coin"
   ]
  },
  {
   "cell_type": "code",
   "execution_count": null,
   "id": "8e54c617",
   "metadata": {},
   "outputs": [],
   "source": [
    "\n",
    "# Your code here\n"
   ]
  },
  {
   "cell_type": "markdown",
   "id": "89d55eb5",
   "metadata": {},
   "source": [
    "### 3.3 A flipping experiment"
   ]
  },
  {
   "cell_type": "code",
   "execution_count": null,
   "id": "1af7edf9",
   "metadata": {},
   "outputs": [],
   "source": [
    "\n",
    "# Your code here\n"
   ]
  },
  {
   "cell_type": "markdown",
   "id": "73f7c1b0",
   "metadata": {},
   "source": [
    "## Exercise 1 :  12C, 13C"
   ]
  },
  {
   "cell_type": "code",
   "execution_count": 39,
   "id": "11a87232",
   "metadata": {
    "scrolled": true
   },
   "outputs": [
    {
     "name": "stdout",
     "output_type": "stream",
     "text": [
      "Mean for number of 13C atoms in a molecule of cholesterol: 0.29826\n",
      "Standard deviation for number of 13C atoms in a molecule of cholesterol: 0.5436000114054451\n",
      "100000 molecules of cholesterol were tested and 74117 had no 13C atoms\n",
      "Probability of no 13C is 74.117%\n"
     ]
    },
    {
     "data": {
      "text/plain": [
       "<matplotlib.table.Table at 0x137cbea10>"
      ]
     },
     "execution_count": 39,
     "metadata": {},
     "output_type": "execute_result"
    },
    {
     "data": {
      "image/png": "[encoded data removed]",
      "text/plain": [
       "<Figure size 640x480 with 1 Axes>"
      ]
     },
     "metadata": {},
     "output_type": "display_data"
    }
   ],
   "source": [
    "import numpy as np\n",
    "import matplotlib.pyplot as plt\n",
    "\n",
    "c_chol = 27\n",
    "prob_c13 = 0.0111\n",
    "\n",
    "def carbon_isotope(p, trials):\n",
    "    carbon_count = np.random.rand(trials)\n",
    "    iso_list = carbon_count < p\n",
    "    iso_count = np.sum(iso_list)\n",
    "    return iso_count\n",
    "    \n",
    "def isotope_test(carbon_atoms, p, num_molecules):\n",
    "    result = np.array([carbon_isotope(p, carbon_atoms) for x in range(num_molecules)])\n",
    "    return result\n",
    "\n",
    "trials = 100000\n",
    "data = isotope_test(c_chol, prob_c13, trials)\n",
    "mean = np.mean(data)\n",
    "std = np.std(data)\n",
    "isoless = len(data[data == 0])\n",
    "p_none = (isoless / trials) * 100\n",
    "\n",
    "print(f\"Mean for number of 13C atoms in a molecule of cholesterol: {mean}\")\n",
    "print(f\"Standard deviation for number of 13C atoms in a molecule of cholesterol: {std}\")\n",
    "print(f\"{trials} molecules of cholesterol were tested and {isoless} had no 13C atoms\")\n",
    "print(f\"Probability of no 13C is {p_none}%\")\n",
    "\n",
    "c13_count, freq = np.unique(data, return_counts=True)\n",
    "\n",
    "plt.bar(c13_count, freq)\n",
    "plt.yscale(\"log\")\n",
    "plt.table([c13_count, freq],\n",
    "         rowLabels=[\"C13 Count\", \"Frequency\"],\n",
    "         bbox=[0, -0.3, 1, 0.2])"
   ]
  },
  {
   "cell_type": "code",
   "execution_count": 16,
   "id": "e4bd8607",
   "metadata": {},
   "outputs": [
    {
     "name": "stdout",
     "output_type": "stream",
     "text": [
      "Mean 1: 0.316\n",
      "STD 1: 0.5658126898541601\n",
      "Mean 2: 0.303\n",
      "STD 2: 0.5469835463704552\n"
     ]
    }
   ],
   "source": [
    "import numpy as np\n",
    "import numpy.random as rand\n",
    "\n",
    "prob = 0.0111\n",
    "carbons = 27\n",
    "repeats = 1000\n",
    "\n",
    "def test_1():\n",
    "    results_1 = []\n",
    "\n",
    "    for i in range(carbons):\n",
    "        data = rand.rand(1)\n",
    "        results_1.append(data < prob)\n",
    "\n",
    "    results_1 = np.array(results_1).sum()\n",
    "    return results_1\n",
    "\n",
    "def test_2():\n",
    "    results_2 = (rand.rand(carbons) < prob).sum()\n",
    "    return results_2\n",
    "\n",
    "results_1, results_2 = [], []\n",
    "for i in range(repeats):\n",
    "    results_1.append(test_1())\n",
    "    results_2.append(test_2())\n",
    "\n",
    "results_1 = np.array(results_1)\n",
    "results_2 = np.array(results_2)\n",
    "\n",
    "print(f\"Mean 1: {results_1}\")\n",
    "print(f\"STD 1: {results_1.std()}\")\n",
    "print(f\"Mean 2: {results_2.mean()}\")\n",
    "print(f\"STD 2: {results_2.std()}\")"
   ]
  },
  {
   "cell_type": "code",
   "execution_count": 19,
   "id": "7489fff6",
   "metadata": {},
   "outputs": [
    {
     "name": "stdout",
     "output_type": "stream",
     "text": [
      "29.8 µs ± 145 ns per loop (mean ± std. dev. of 7 runs, 10,000 loops each)\n"
     ]
    }
   ],
   "source": [
    "%timeit test_1()"
   ]
  },
  {
   "cell_type": "code",
   "execution_count": 20,
   "id": "75baef3b",
   "metadata": {},
   "outputs": [
    {
     "name": "stdout",
     "output_type": "stream",
     "text": [
      "1.91 µs ± 7.41 ns per loop (mean ± std. dev. of 7 runs, 100,000 loops each)\n"
     ]
    }
   ],
   "source": [
    "%timeit test_2()"
   ]
  }
 ],
 "metadata": {
  "kernelspec": {
   "display_name": "Python 3 (ipykernel)",
   "language": "python",
   "name": "python3"
  },
  "language_info": {
   "codemirror_mode": {
    "name": "ipython",
    "version": 3
   },
   "file_extension": ".py",
   "mimetype": "text/x-python",
   "name": "python",
   "nbconvert_exporter": "python",
   "pygments_lexer": "ipython3",
   "version": "3.10.8"
  },
  "toc": {
   "base_numbering": 1,
   "nav_menu": {},
   "number_sections": true,
   "sideBar": true,
   "skip_h1_title": false,
   "title_cell": "Table of Contents",
   "title_sidebar": "Contents",
   "toc_cell": false,
   "toc_position": {},
   "toc_section_display": true,
   "toc_window_display": false
  },
  "varInspector": {
   "cols": {
    "lenName": 16,
    "lenType": 16,
    "lenVar": 40
   },
   "kernels_config": {
    "python": {
     "delete_cmd_postfix": "",
     "delete_cmd_prefix": "del ",
     "library": "var_list.py",
     "varRefreshCmd": "print(var_dic_list())"
    },
    "r": {
     "delete_cmd_postfix": ") ",
     "delete_cmd_prefix": "rm(",
     "library": "var_list.r",
     "varRefreshCmd": "cat(var_dic_list()) "
    }
   },
   "types_to_exclude": [
    "module",
    "function",
    "builtin_function_or_method",
    "instance",
    "_Feature"
   ],
   "window_display": false
  },
  "vscode": {
   "interpreter": {
    "hash": "31f2aee4e71d21fbe5cf8b01ff0e069b9275f58929596ceb00d14d90e3e16cd6"
   }
  }
 },
 "nbformat": 4,
 "nbformat_minor": 5
}
