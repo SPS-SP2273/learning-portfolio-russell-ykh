{
 "cells": [
  {
   "cell_type": "markdown",
   "id": "123456",
   "metadata": {},
   "source": [
    "<div style=\"text-align:left;font-size:2em\"><span style=\"font-weight:bolder;font-size:1.25em\">SP2273 | Learning Portfolio</span><br><br><span style=\"font-weight:bold;color:darkred\">Random Numbers (Nice)</span></div>"
   ]
  },
  {
   "cell_type": "markdown",
   "id": "a69c3d29",
   "metadata": {},
   "source": [
    "## 1 MC strategy for integration"
   ]
  },
  {
   "cell_type": "markdown",
   "id": "9f7841e1",
   "metadata": {},
   "source": [
    "## <span style=\"color:green\">Explore 1:</span> Monte Carlo Integration"
   ]
  },
  {
   "cell_type": "code",
   "execution_count": 21,
   "id": "1afb7667",
   "metadata": {},
   "outputs": [
    {
     "name": "stdout",
     "output_type": "stream",
     "text": [
      "10: 4.199999999999999\n",
      "100: 4.199999999999999\n",
      "1000: 3.978\n",
      "10000: 4.0632\n",
      "100000: 4.059\n"
     ]
    }
   ],
   "source": [
    "import numpy as np\n",
    "from numpy.random import default_rng\n",
    "\n",
    "def __init__():\n",
    "    rand = default_rng()\n",
    "    \n",
    "def calc_integral(n_all=100):    \n",
    "    x = rand.uniform(2, 3, n_all)\n",
    "    y = rand.uniform(0, 6, n_all)\n",
    "\n",
    "    f = lambda x : (x * np.sin(2*x))**2\n",
    "\n",
    "    fit = [y <= f(x)]\n",
    "    n_below = np.sum(fit)\n",
    "\n",
    "    blue_to_greytio = n_below / n_all\n",
    "    integral = blue_to_greytio * 6\n",
    "    return integral\n",
    "\n",
    "__init__()\n",
    "\n",
    "for i in range(1, 6):\n",
    "    tries = 10**i\n",
    "    val = calc_integral(n_all=tries)\n",
    "    print(f\"{tries}: {val}\")"
   ]
  },
  {
   "cell_type": "markdown",
   "id": "3837c2a6",
   "metadata": {},
   "source": [
    "## 2 Another MC strategy for integration"
   ]
  },
  {
   "cell_type": "markdown",
   "id": "5579e4f3",
   "metadata": {},
   "source": [
    "### 2.1 Some theory"
   ]
  },
  {
   "cell_type": "markdown",
   "id": "b26fcd18",
   "metadata": {},
   "source": [
    "## <span style=\"color:green\">Explore 2:</span>  Integration with an estimator"
   ]
  },
  {
   "cell_type": "code",
   "execution_count": 31,
   "id": "4f4e89ce",
   "metadata": {},
   "outputs": [
    {
     "name": "stdout",
     "output_type": "stream",
     "text": [
      "Monte Carlo Integrator, 10 tries: 3.0\n",
      "Monte Carlo Estimator, 10 tries: 3.3988176686932086\n",
      "\n",
      "Monte Carlo Integrator, 100 tries: 4.0200000000000005\n",
      "Monte Carlo Estimator, 100 tries: 4.209312887861098\n",
      "\n",
      "Monte Carlo Integrator, 1000 tries: 4.0200000000000005\n",
      "Monte Carlo Estimator, 1000 tries: 4.202862741814965\n",
      "\n",
      "Monte Carlo Integrator, 10000 tries: 4.030799999999999\n",
      "Monte Carlo Estimator, 10000 tries: 4.051257787972016\n",
      "\n",
      "Monte Carlo Integrator, 100000 tries: 4.06794\n",
      "Monte Carlo Estimator, 100000 tries: 4.062843926609638\n",
      "\n"
     ]
    }
   ],
   "source": [
    "import numpy as np\n",
    "from numpy.random import default_rng\n",
    "\n",
    "def defaults():\n",
    "    xlim0, xlim1 = 2, 3\n",
    "    ylim0, ylim1 = 0, 6\n",
    "    f = lambda x : (x * np.sin(2*x))**2\n",
    "    return xlim0, xlim1, ylim0, ylim1, f\n",
    "\n",
    "def calc_integral(xlim0, xlim1, ylim0, ylim1, f, n_all=100):\n",
    "    x = rand.uniform(xlim0, xlim1, n_all)\n",
    "    y = rand.uniform(ylim0, ylim1, n_all)\n",
    "    \n",
    "    fit = [y <= f(x)]\n",
    "    n_below = np.sum(fit)\n",
    "    blue_to_greytio = n_below / n_all\n",
    "    integral = blue_to_greytio * (xlim1 - xlim0) * (ylim1 - ylim0)\n",
    "    \n",
    "    return integral\n",
    "\n",
    "def mc_estimator(xlim0, xlim1, ylim0, ylim1, f, n_all=100):\n",
    "    x = rand.uniform(xlim0, xlim1, n_all)\n",
    "    y = rand.uniform(ylim0, ylim1, n_all)\n",
    "    \n",
    "    sum_xi = np.sum(f(x))\n",
    "    integral = (sum_xi / n_all) * (xlim1 - xlim0)\n",
    "    \n",
    "    return integral\n",
    "\n",
    "def test():\n",
    "    rand = default_rng()\n",
    "    xlim0, xlim1, ylim0, ylim1, f = defaults()\n",
    "\n",
    "    for i in range(1, 6):\n",
    "        tries = 10**i\n",
    "        val1 = calc_integral(xlim0, xlim1, ylim0, ylim1, f, n_all=tries)\n",
    "        val2 = mc_estimator(xlim0, xlim1, ylim0, ylim1, f, n_all=tries)\n",
    "        print(f\"Monte Carlo Integrator, {tries} tries: {val1}\")\n",
    "        print(f\"Monte Carlo Estimator, {tries} tries: {val2}\", end=\"\\n\\n\")\n",
    "\n",
    "test()"
   ]
  },
  {
   "cell_type": "code",
   "execution_count": 32,
   "id": "d5e59c69",
   "metadata": {},
   "outputs": [
    {
     "name": "stdout",
     "output_type": "stream",
     "text": [
      "40.6 ns ± 0.128 ns per loop (mean ± std. dev. of 7 runs, 10,000,000 loops each)\n"
     ]
    }
   ],
   "source": [
    "%%timeit\n",
    "def calc_integral(xlim0, xlim1, ylim0, ylim1, f, n_all=100):\n",
    "    x = rand.uniform(xlim0, xlim1, n_all)\n",
    "    y = rand.uniform(ylim0, ylim1, n_all)\n",
    "    \n",
    "    fit = [y <= f(x)]\n",
    "    n_below = np.sum(fit)\n",
    "    blue_to_greytio = n_below / n_all\n",
    "    integral = blue_to_greytio * (xlim1 - xlim0) * (ylim1 - ylim0)\n",
    "    \n",
    "    return integral"
   ]
  },
  {
   "cell_type": "code",
   "execution_count": 33,
   "id": "b99aa603",
   "metadata": {},
   "outputs": [
    {
     "name": "stdout",
     "output_type": "stream",
     "text": [
      "40 ns ± 0.0307 ns per loop (mean ± std. dev. of 7 runs, 10,000,000 loops each)\n"
     ]
    }
   ],
   "source": [
    "%%timeit\n",
    "def mc_estimator(xlim0, xlim1, ylim0, ylim1, f, n_all=100):\n",
    "    x = rand.uniform(xlim0, xlim1, n_all)\n",
    "    y = rand.uniform(ylim0, ylim1, n_all)\n",
    "    \n",
    "    sum_xi = np.sum(f(x))\n",
    "    integral = (sum_xi / n_all) * (xlim1 - xlim0)\n",
    "    \n",
    "    return integral"
   ]
  }
 ],
 "metadata": {
  "kernelspec": {
   "display_name": "Python 3 (ipykernel)",
   "language": "python",
   "name": "python3"
  },
  "language_info": {
   "codemirror_mode": {
    "name": "ipython",
    "version": 3
   },
   "file_extension": ".py",
   "mimetype": "text/x-python",
   "name": "python",
   "nbconvert_exporter": "python",
   "pygments_lexer": "ipython3",
   "version": "3.10.8"
  },
  "toc": {
   "base_numbering": 1,
   "nav_menu": {},
   "number_sections": true,
   "sideBar": true,
   "skip_h1_title": false,
   "title_cell": "Table of Contents",
   "title_sidebar": "Contents",
   "toc_cell": false,
   "toc_position": {},
   "toc_section_display": true,
   "toc_window_display": false
  },
  "varInspector": {
   "cols": {
    "lenName": 16,
    "lenType": 16,
    "lenVar": 40
   },
   "kernels_config": {
    "python": {
     "delete_cmd_postfix": "",
     "delete_cmd_prefix": "del ",
     "library": "var_list.py",
     "varRefreshCmd": "print(var_dic_list())"
    },
    "r": {
     "delete_cmd_postfix": ") ",
     "delete_cmd_prefix": "rm(",
     "library": "var_list.r",
     "varRefreshCmd": "cat(var_dic_list()) "
    }
   },
   "types_to_exclude": [
    "module",
    "function",
    "builtin_function_or_method",
    "instance",
    "_Feature"
   ],
   "window_display": false
  },
  "vscode": {
   "interpreter": {
    "hash": "31f2aee4e71d21fbe5cf8b01ff0e069b9275f58929596ceb00d14d90e3e16cd6"
   }
  }
 },
 "nbformat": 4,
 "nbformat_minor": 5
}
