{
 "cells": [
  {
   "cell_type": "markdown",
   "id": "123456",
   "metadata": {},
   "source": [
    "<div style=\"text-align:left;font-size:2em\"><span style=\"font-weight:bolder;font-size:1.25em\">SP2273 | Learning Portfolio</span><br><br><span style=\"font-weight:bold;color:darkred\">Plotting (Good)</span></div>"
   ]
  },
  {
   "cell_type": "markdown",
   "id": "d5f41ae0",
   "metadata": {},
   "source": [
    "## 1 Comparing the two ‘dialects’"
   ]
  },
  {
   "cell_type": "markdown",
   "id": "76f48801",
   "metadata": {},
   "source": [
    "### 1.1 Some nomenclature"
   ]
  },
  {
   "cell_type": "code",
   "execution_count": null,
   "id": "feb9eb1c",
   "metadata": {},
   "outputs": [],
   "source": [
    "\n",
    "# Your code here\n"
   ]
  },
  {
   "cell_type": "markdown",
   "id": "73f2d076",
   "metadata": {},
   "source": [
    "### 1.2 We need some data."
   ]
  },
  {
   "cell_type": "code",
   "execution_count": null,
   "id": "dd79f6d6",
   "metadata": {},
   "outputs": [],
   "source": [
    "\n",
    "# Your code here\n"
   ]
  },
  {
   "cell_type": "markdown",
   "id": "affe60ac",
   "metadata": {},
   "source": [
    "### 1.3 Here comes the comparison"
   ]
  },
  {
   "cell_type": "code",
   "execution_count": null,
   "id": "8c70cc56",
   "metadata": {},
   "outputs": [],
   "source": [
    "\n",
    "# Your code here\n"
   ]
  },
  {
   "cell_type": "markdown",
   "id": "810c8a4a",
   "metadata": {},
   "source": [
    "## 2 Using the OO Interface"
   ]
  },
  {
   "cell_type": "markdown",
   "id": "431c1727",
   "metadata": {},
   "source": [
    "### 2.1 Getting ax"
   ]
  },
  {
   "cell_type": "code",
   "execution_count": null,
   "id": "202f7da2",
   "metadata": {},
   "outputs": [],
   "source": [
    "\n",
    "# Your code here\n"
   ]
  },
  {
   "cell_type": "markdown",
   "id": "c9f2a7da",
   "metadata": {},
   "source": [
    "### 2.2 What is ax"
   ]
  },
  {
   "cell_type": "code",
   "execution_count": null,
   "id": "1e1569a0",
   "metadata": {},
   "outputs": [],
   "source": [
    "\n",
    "# Your code here\n"
   ]
  },
  {
   "cell_type": "markdown",
   "id": "6486c920",
   "metadata": {},
   "source": [
    "### 2.3 Plots in a column"
   ]
  },
  {
   "cell_type": "code",
   "execution_count": null,
   "id": "020d70b8",
   "metadata": {},
   "outputs": [],
   "source": [
    "\n",
    "# Your code here\n"
   ]
  },
  {
   "cell_type": "markdown",
   "id": "9c5df61b",
   "metadata": {},
   "source": [
    "### 2.4 Legends"
   ]
  },
  {
   "cell_type": "code",
   "execution_count": null,
   "id": "2e168c88",
   "metadata": {},
   "outputs": [],
   "source": [
    "\n",
    "# Your code here\n"
   ]
  },
  {
   "cell_type": "markdown",
   "id": "4a0c45df",
   "metadata": {},
   "source": [
    "### 2.5 Tweaks"
   ]
  },
  {
   "cell_type": "code",
   "execution_count": null,
   "id": "fad7c0f4",
   "metadata": {},
   "outputs": [],
   "source": [
    "\n",
    "# Your code here\n"
   ]
  },
  {
   "cell_type": "markdown",
   "id": "7f4b26d4",
   "metadata": {},
   "source": [
    "## 3 More rows and columns"
   ]
  },
  {
   "cell_type": "markdown",
   "id": "1b81b3a1",
   "metadata": {},
   "source": [
    "### 3.1 Using ax"
   ]
  },
  {
   "cell_type": "code",
   "execution_count": null,
   "id": "47bab232",
   "metadata": {},
   "outputs": [],
   "source": [
    "\n",
    "# Your code here\n"
   ]
  },
  {
   "cell_type": "markdown",
   "id": "3cdfe4ca",
   "metadata": {},
   "source": [
    "### 3.2 Sharing axes"
   ]
  },
  {
   "cell_type": "code",
   "execution_count": null,
   "id": "7601be36",
   "metadata": {},
   "outputs": [],
   "source": [
    "\n",
    "# Your code here\n"
   ]
  },
  {
   "cell_type": "markdown",
   "id": "62810f82",
   "metadata": {},
   "source": [
    "### 3.3 Accessing all axes"
   ]
  },
  {
   "cell_type": "code",
   "execution_count": null,
   "id": "ff3a0d99",
   "metadata": {},
   "outputs": [],
   "source": [
    "\n",
    "# Your code here\n"
   ]
  },
  {
   "cell_type": "markdown",
   "id": "19d26f30",
   "metadata": {},
   "source": [
    "## 4 Other useful plots"
   ]
  },
  {
   "cell_type": "markdown",
   "id": "002205dc",
   "metadata": {},
   "source": [
    "### 4.1 Histograms"
   ]
  },
  {
   "cell_type": "code",
   "execution_count": null,
   "id": "bdac1468",
   "metadata": {},
   "outputs": [],
   "source": [
    "\n",
    "# Your code here\n"
   ]
  },
  {
   "cell_type": "markdown",
   "id": "a20b2bc3",
   "metadata": {},
   "source": [
    "### 4.2 Scatter plots"
   ]
  },
  {
   "cell_type": "code",
   "execution_count": null,
   "id": "ae0dae5b",
   "metadata": {},
   "outputs": [],
   "source": [
    "\n",
    "# Your code here\n"
   ]
  },
  {
   "cell_type": "markdown",
   "id": "3235637a",
   "metadata": {},
   "source": [
    "### 4.3 Bar charts"
   ]
  },
  {
   "cell_type": "code",
   "execution_count": null,
   "id": "56f3b31a",
   "metadata": {},
   "outputs": [],
   "source": [
    "\n",
    "# Your code here\n"
   ]
  },
  {
   "cell_type": "markdown",
   "id": "df3eca46",
   "metadata": {},
   "source": [
    "### 4.4 Pie charts"
   ]
  },
  {
   "cell_type": "code",
   "execution_count": null,
   "id": "5b50a36f",
   "metadata": {},
   "outputs": [],
   "source": [
    "\n",
    "# Your code here\n"
   ]
  },
  {
   "cell_type": "markdown",
   "id": "c05509ba",
   "metadata": {},
   "source": [
    "## Exercise 1 :  Plotting data from files"
   ]
  },
  {
   "cell_type": "code",
   "execution_count": null,
   "id": "a8e96f8f",
   "metadata": {},
   "outputs": [],
   "source": [
    "\n",
    "\n",
    "\n",
    "# Your solution here\n",
    "\n",
    "\n"
   ]
  }
 ],
 "metadata": {
  "kernelspec": {
   "display_name": "Python 3 (ipykernel)",
   "language": "python",
   "name": "python3"
  },
  "language_info": {
   "codemirror_mode": {
    "name": "ipython",
    "version": 3
   },
   "file_extension": ".py",
   "mimetype": "text/x-python",
   "name": "python",
   "nbconvert_exporter": "python",
   "pygments_lexer": "ipython3",
   "version": "3.10.8"
  },
  "toc": {
   "base_numbering": 1,
   "nav_menu": {},
   "number_sections": true,
   "sideBar": true,
   "skip_h1_title": false,
   "title_cell": "Table of Contents",
   "title_sidebar": "Contents",
   "toc_cell": false,
   "toc_position": {},
   "toc_section_display": true,
   "toc_window_display": false
  },
  "varInspector": {
   "cols": {
    "lenName": 16,
    "lenType": 16,
    "lenVar": 40
   },
   "kernels_config": {
    "python": {
     "delete_cmd_postfix": "",
     "delete_cmd_prefix": "del ",
     "library": "var_list.py",
     "varRefreshCmd": "print(var_dic_list())"
    },
    "r": {
     "delete_cmd_postfix": ") ",
     "delete_cmd_prefix": "rm(",
     "library": "var_list.r",
     "varRefreshCmd": "cat(var_dic_list()) "
    }
   },
   "types_to_exclude": [
    "module",
    "function",
    "builtin_function_or_method",
    "instance",
    "_Feature"
   ],
   "window_display": false
  },
  "vscode": {
   "interpreter": {
    "hash": "31f2aee4e71d21fbe5cf8b01ff0e069b9275f58929596ceb00d14d90e3e16cd6"
   }
  }
 },
 "nbformat": 4,
 "nbformat_minor": 5
}
