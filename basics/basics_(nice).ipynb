{
 "cells": [
  {
   "cell_type": "markdown",
   "id": "123456",
   "metadata": {},
   "source": [
    "<div style=\"text-align:left;font-size:2em\"><span style=\"font-weight:bolder;font-size:1.25em\">SP2273 | Learning Portfolio</span><br><br><span style=\"font-weight:bold;color:darkred\">Basics (Nice)</span></div>"
   ]
  },
  {
   "cell_type": "markdown",
   "id": "1dabfc29",
   "metadata": {},
   "source": [
    "## 1 Beyond Python Basics"
   ]
  },
  {
   "cell_type": "markdown",
   "id": "0da2ddf6",
   "metadata": {},
   "source": [
    "### 1.1 If if is not enough"
   ]
  },
  {
   "cell_type": "code",
   "execution_count": null,
   "id": "4db73a7c",
   "metadata": {},
   "outputs": [],
   "source": [
    "\n",
    "# Your code here\n",
    "name = 'Batman'\n",
    "\n",
    "match name: #this is basically a switch yay\n",
    "    case 'Batman':\n",
    "        print('Hello Hero | Batman!')\n",
    "    case 'Robin':\n",
    "        print('Hello Sidekick | Robin!')\n",
    "    case _: #default\n",
    "        print('Hello World!')"
   ]
  },
  {
   "cell_type": "markdown",
   "id": "aebe37f1",
   "metadata": {},
   "source": [
    "### 1.2 Ternary operators or Conditional Statements"
   ]
  },
  {
   "cell_type": "code",
   "execution_count": 5,
   "id": "c6a0297e",
   "metadata": {},
   "outputs": [
    {
     "name": "stdout",
     "output_type": "stream",
     "text": [
      "Bonjour!\n",
      "No message!\n",
      "Popopo\n"
     ]
    }
   ],
   "source": [
    "\n",
    "# Your code here\n",
    "\n",
    "def hello(nationality):\n",
    "    print((\"Hello!\",\"Bonjour!\")[nationality == 'French']) #default is first param\n",
    "    return \"Bonjour!\" if nationality == 'French' else \"Hello!\"\n",
    "\n",
    "hello(\"French\")\n",
    "\n",
    "text = None\n",
    "message = text or \"No message!\" #null check basically\n",
    "print(message)\n",
    "ta = \"Popopo\"\n",
    "msg = ta or \"None\"\n",
    "print(msg)"
   ]
  },
  {
   "cell_type": "markdown",
   "id": "740a46f4",
   "metadata": {},
   "source": [
    "### 1.3 Swapping values"
   ]
  },
  {
   "cell_type": "code",
   "execution_count": 7,
   "id": "f99127fa",
   "metadata": {},
   "outputs": [
    {
     "name": "stdout",
     "output_type": "stream",
     "text": [
      "2 1\n",
      "2 3 1\n"
     ]
    }
   ],
   "source": [
    "a, b = 1, 2\n",
    "a, b = b, a\n",
    "print(a, b)\n",
    "\n",
    "x, y, z = 1, 2, 3\n",
    "x, y, z = y, z, x\n",
    "print(x, y, z)"
   ]
  },
  {
   "cell_type": "markdown",
   "id": "beae13d7",
   "metadata": {},
   "source": [
    "### 1.4 Never compare floats directly"
   ]
  },
  {
   "cell_type": "code",
   "execution_count": 15,
   "id": "21af9756",
   "metadata": {},
   "outputs": [
    {
     "name": "stdout",
     "output_type": "stream",
     "text": [
      "False\n",
      "True\n"
     ]
    }
   ],
   "source": [
    "import numpy\n",
    "\n",
    "x, y = 0.1, 0.3/3.0\n",
    "\n",
    "print(x == y)\n",
    "\n",
    "print(numpy.isclose(x, y))"
   ]
  },
  {
   "cell_type": "markdown",
   "id": "1607ea68",
   "metadata": {},
   "source": [
    "### 1.5 Operator precedance"
   ]
  },
  {
   "cell_type": "markdown",
   "id": "3a9b4162",
   "metadata": {},
   "source": [
    "|**Description**|**Operator**|\n",
    "|:--|:-:|\n",
    "|Parentheses(grouping) | ()|\n",
    "|Function call\t|f(args...)|\n",
    "|Slicing\t|x[index:index]|\n",
    "|Subscription|\tx[index]|\n",
    "|Attribute reference|\tx.attribute|\n",
    "|Exponentiation\t|\\*\\*|\n",
    "|Bitwise not|\t~x|\n",
    "|Positive, negative|\t+x, -x|\n",
    "|Multiplication, division, remainder|\t\\*, / ,%|\n",
    "|Addition, subtraction|\t+, -|\n",
    "|Bitwise shifts|\t<<, >>|\n",
    "|Bitwise AND|\t&|\n",
    "|Bitwise XOR|\t^|\n",
    "|Bitwise OR |\t\\|\n",
    "|Comparisons, membership, identity\t| in, not in, is, is not, <, <=, >, >=, <>, !=, ==|\n",
    "|Boolean NOT\t|not x|\n",
    "|Boolean AND\t|and|\n",
    "|Boolean OR\t|or|\n",
    "|Lambda expression|\tlambda|"
   ]
  },
  {
   "cell_type": "markdown",
   "id": "290b60bf",
   "metadata": {},
   "source": [
    "## 2 Variables in Python"
   ]
  },
  {
   "cell_type": "markdown",
   "id": "c6499435",
   "metadata": {},
   "source": [
    "### 2.1 Variables in Python are just names"
   ]
  },
  {
   "cell_type": "code",
   "execution_count": 16,
   "id": "7c961333",
   "metadata": {},
   "outputs": [
    {
     "name": "stdout",
     "output_type": "stream",
     "text": [
      "x: 4373119216, y: 4373119216, 1: 4373119216\n"
     ]
    }
   ],
   "source": [
    "\n",
    "# Your code here\n",
    "x = 1\n",
    "y = 1\n",
    "\n",
    "print(f\"x: {id(x)}, y: {id(y)}, 1: {id(1)}\")"
   ]
  },
  {
   "cell_type": "markdown",
   "id": "00843cea",
   "metadata": {},
   "source": [
    "### 2.2 == is not the same as is"
   ]
  },
  {
   "cell_type": "code",
   "execution_count": 17,
   "id": "695d641e",
   "metadata": {},
   "outputs": [
    {
     "name": "stdout",
     "output_type": "stream",
     "text": [
      "True\n",
      "True\n"
     ]
    }
   ],
   "source": [
    "\n",
    "# Your code here\n",
    "x, y = 5, 5\n",
    "print(x is y)\n",
    "print(x == y)"
   ]
  }
 ],
 "metadata": {
  "kernelspec": {
   "display_name": "Python 3 (ipykernel)",
   "language": "python",
   "name": "python3"
  },
  "language_info": {
   "codemirror_mode": {
    "name": "ipython",
    "version": 3
   },
   "file_extension": ".py",
   "mimetype": "text/x-python",
   "name": "python",
   "nbconvert_exporter": "python",
   "pygments_lexer": "ipython3",
   "version": "3.10.8"
  },
  "toc": {
   "base_numbering": 1,
   "nav_menu": {},
   "number_sections": true,
   "sideBar": true,
   "skip_h1_title": false,
   "title_cell": "Table of Contents",
   "title_sidebar": "Contents",
   "toc_cell": false,
   "toc_position": {},
   "toc_section_display": true,
   "toc_window_display": false
  },
  "varInspector": {
   "cols": {
    "lenName": 16,
    "lenType": 16,
    "lenVar": 40
   },
   "kernels_config": {
    "python": {
     "delete_cmd_postfix": "",
     "delete_cmd_prefix": "del ",
     "library": "var_list.py",
     "varRefreshCmd": "print(var_dic_list())"
    },
    "r": {
     "delete_cmd_postfix": ") ",
     "delete_cmd_prefix": "rm(",
     "library": "var_list.r",
     "varRefreshCmd": "cat(var_dic_list()) "
    }
   },
   "types_to_exclude": [
    "module",
    "function",
    "builtin_function_or_method",
    "instance",
    "_Feature"
   ],
   "window_display": false
  },
  "vscode": {
   "interpreter": {
    "hash": "31f2aee4e71d21fbe5cf8b01ff0e069b9275f58929596ceb00d14d90e3e16cd6"
   }
  }
 },
 "nbformat": 4,
 "nbformat_minor": 5
}
