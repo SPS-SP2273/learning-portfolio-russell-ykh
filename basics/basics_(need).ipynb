{
 "cells": [
  {
   "cell_type": "markdown",
   "id": "123456",
   "metadata": {},
   "source": [
    "<div style=\"text-align:left;font-size:2em\"><span style=\"font-weight:bolder;font-size:1.25em\">SP2273 | Learning Portfolio</span><br><br><span style=\"font-weight:bold;color:darkred\">Basics (Need)</span></div>"
   ]
  },
  {
   "cell_type": "markdown",
   "id": "7338d476",
   "metadata": {},
   "source": [
    "## 1 Some Python Basics"
   ]
  },
  {
   "cell_type": "markdown",
   "id": "b5e65054",
   "metadata": {},
   "source": [
    "### 1.1 Functions"
   ]
  },
  {
   "cell_type": "code",
   "execution_count": 1,
   "id": "9ca009c8",
   "metadata": {},
   "outputs": [
    {
     "name": "stdout",
     "output_type": "stream",
     "text": [
      "Hello world!\n"
     ]
    }
   ],
   "source": [
    "print(\"Hello world!\");"
   ]
  },
  {
   "cell_type": "markdown",
   "id": "cd72334f",
   "metadata": {},
   "source": [
    "### 1.2 Python is interpreted"
   ]
  },
  {
   "cell_type": "code",
   "execution_count": 2,
   "id": "bcf6c03e",
   "metadata": {},
   "outputs": [
    {
     "name": "stdout",
     "output_type": "stream",
     "text": [
      "Hello world!\n",
      "HEllow world again!!!!!!\n"
     ]
    }
   ],
   "source": [
    "print(\"Hello world!\");\n",
    "print(\"HEllow world again!!!!!!\");"
   ]
  },
  {
   "cell_type": "markdown",
   "id": "1e0269d0",
   "metadata": {},
   "source": [
    "### 1.3 Python is sensitive."
   ]
  },
  {
   "cell_type": "code",
   "execution_count": 3,
   "id": "05f38d9a",
   "metadata": {},
   "outputs": [
    {
     "name": "stdout",
     "output_type": "stream",
     "text": [
      "Hello world!\n",
      "Hello world!\n"
     ]
    }
   ],
   "source": [
    "\n",
    "# Your code here\n",
    "\n",
    "def Print(string):\n",
    "    print(string);\n",
    "\n",
    "print(\"Hello world!\")\n",
    "Print(\"Hello world!\")\n"
   ]
  },
  {
   "cell_type": "markdown",
   "id": "1e76487a",
   "metadata": {},
   "source": [
    "### 1.4 Comments"
   ]
  },
  {
   "cell_type": "code",
   "execution_count": 4,
   "id": "19b0cda6",
   "metadata": {},
   "outputs": [
    {
     "name": "stdout",
     "output_type": "stream",
     "text": [
      "Hello world\n"
     ]
    }
   ],
   "source": [
    "\n",
    "# Your code here\n",
    "print(\"Hello world\") #Printing \"Hello World\"\n"
   ]
  },
  {
   "cell_type": "markdown",
   "id": "30fa7391",
   "metadata": {},
   "source": [
    "### 1.5 = is not the same as =="
   ]
  },
  {
   "cell_type": "code",
   "execution_count": 5,
   "id": "5b5affaf",
   "metadata": {},
   "outputs": [
    {
     "name": "stdout",
     "output_type": "stream",
     "text": [
      "True\n"
     ]
    }
   ],
   "source": [
    "\n",
    "# Your code here\n",
    "\n",
    "name = \"Batman\";\n",
    "print(name == \"Batman\");"
   ]
  },
  {
   "cell_type": "markdown",
   "id": "ae504420",
   "metadata": {},
   "source": [
    "### 1.6 Use if to make decisions"
   ]
  },
  {
   "cell_type": "code",
   "execution_count": 6,
   "id": "473452bd",
   "metadata": {},
   "outputs": [
    {
     "name": "stdout",
     "output_type": "stream",
     "text": [
      "Hello Hero | Batman!\n"
     ]
    }
   ],
   "source": [
    "\n",
    "# Your code here\n",
    "\n",
    "name = \"Batman\";\n",
    "\n",
    "if name == \"Batman\":\n",
    "    print(\"Hello Hero | Batman!\");\n",
    "else:\n",
    "    print(\"Hello World!\");\n"
   ]
  },
  {
   "cell_type": "markdown",
   "id": "f1dadae1",
   "metadata": {},
   "source": [
    "### 1.7 Indentations (spaces) are sooo IMPORTANT!"
   ]
  },
  {
   "cell_type": "code",
   "execution_count": 7,
   "id": "cf5d3652",
   "metadata": {},
   "outputs": [
    {
     "ename": "IndentationError",
     "evalue": "unexpected indent (2016965530.py, line 6)",
     "output_type": "error",
     "traceback": [
      "\u001b[0;36m  Cell \u001b[0;32mIn[7], line 6\u001b[0;36m\u001b[0m\n\u001b[0;31m    print(x);\u001b[0m\n\u001b[0m    ^\u001b[0m\n\u001b[0;31mIndentationError\u001b[0m\u001b[0;31m:\u001b[0m unexpected indent\n"
     ]
    }
   ],
   "source": [
    "\n",
    "# Your code here\n",
    "x = 10;\n",
    "print(x);\n",
    "\n",
    "x = 10;\n",
    "    print(x);"
   ]
  },
  {
   "cell_type": "markdown",
   "id": "c9a5935e",
   "metadata": {},
   "source": [
    "### 1.8 ‘age’ is English, age is a variable."
   ]
  },
  {
   "cell_type": "code",
   "execution_count": null,
   "id": "27a3879d",
   "metadata": {},
   "outputs": [],
   "source": [
    "\n",
    "# Your code here\n",
    "age = 21;\n",
    "print(age);\n",
    "print(\"age\");"
   ]
  },
  {
   "cell_type": "markdown",
   "id": "8333e156",
   "metadata": {},
   "source": [
    "### 1.9 Escape sequences"
   ]
  },
  {
   "cell_type": "code",
   "execution_count": 9,
   "id": "9e372e0b",
   "metadata": {},
   "outputs": [
    {
     "name": "stdout",
     "output_type": "stream",
     "text": [
      "Testing \\n\n"
     ]
    }
   ],
   "source": [
    "\n",
    "# Your code here\n",
    "print(\"Testing \\\\n\")"
   ]
  },
  {
   "cell_type": "markdown",
   "id": "9a86c20b",
   "metadata": {},
   "source": [
    "### 1.10 Brackets"
   ]
  },
  {
   "cell_type": "code",
   "execution_count": 10,
   "id": "b3086624",
   "metadata": {},
   "outputs": [
    {
     "name": "stdout",
     "output_type": "stream",
     "text": [
      "['a', 'b', 'c']\n",
      "0\n"
     ]
    }
   ],
   "source": [
    "\n",
    "# Your code here\n",
    "lst = [\"a\", \"b\", \"c\"];\n",
    "dct = {\"a\":0,\"b\":1,\"c\":2};\n",
    "\n",
    "print(lst);\n",
    "print(dct[\"a\"]);"
   ]
  },
  {
   "cell_type": "markdown",
   "id": "43f948ef",
   "metadata": {},
   "source": [
    "## 2 Giving Python superpowers"
   ]
  },
  {
   "cell_type": "markdown",
   "id": "3849c03c",
   "metadata": {},
   "source": [
    "### 2.1 Packages"
   ]
  },
  {
   "cell_type": "code",
   "execution_count": 16,
   "id": "cb3438fc",
   "metadata": {
    "scrolled": true
   },
   "outputs": [
    {
     "name": "stdout",
     "output_type": "stream",
     "text": [
      "7.3484692283495345\n",
      "[ 0.          1.          2.82842712  5.19615242  8.         11.18033989\n",
      " 14.69693846 18.52025918 22.627417  ]\n"
     ]
    }
   ],
   "source": [
    "\n",
    "# Your code here\n",
    "import math\n",
    "import numpy\n",
    "\n",
    "mathlist = [x**3 for x in range(0,9)]\n",
    "\n",
    "print(math.sqrt(54))\n",
    "print(numpy.sqrt(mathlist))"
   ]
  },
  {
   "cell_type": "markdown",
   "id": "ff4ecfdb",
   "metadata": {},
   "source": [
    "### 2.2 The dot (.)"
   ]
  },
  {
   "cell_type": "code",
   "execution_count": null,
   "id": "7ded699a",
   "metadata": {},
   "outputs": [],
   "source": [
    "\n",
    "# Your code here\n",
    "#. indicates ownership"
   ]
  },
  {
   "cell_type": "markdown",
   "id": "98e13e2c",
   "metadata": {},
   "source": [
    "## Exercise 1 :  Total recall?"
   ]
  },
  {
   "cell_type": "markdown",
   "id": "c2a89b5e",
   "metadata": {},
   "source": [
    "\n",
    "* Variables\n",
    "* Operators\n",
    "* Functions\n",
    "* Classes\n",
    "* Objects\n",
    "* Loops\n",
    "* Conditionals"
   ]
  },
  {
   "cell_type": "markdown",
   "id": "e3c1a6e9",
   "metadata": {},
   "source": [
    "## Exercise 2 :  Debug me"
   ]
  },
  {
   "cell_type": "code",
   "execution_count": 20,
   "id": "db8b900f",
   "metadata": {
    "scrolled": true
   },
   "outputs": [
    {
     "name": "stdout",
     "output_type": "stream",
     "text": [
      "3, 4, 5.0\n"
     ]
    }
   ],
   "source": [
    "import math\n",
    "\n",
    "x, y = 3, 4\n",
    "z = math.sqrt(x**2 + y**2)\n",
    "print(str(x)+\", \"+str(y)+\", \"+str(z))\n",
    "\n",
    "\n"
   ]
  },
  {
   "cell_type": "markdown",
   "id": "df2786a0",
   "metadata": {},
   "source": [
    "## Exercise 3 :  In your own words"
   ]
  },
  {
   "cell_type": "markdown",
   "id": "3d669b89",
   "metadata": {},
   "source": [
    "|#|Term|Description|\n",
    "|:-:|:--|:--|\n",
    "|1|Function|A member of a class that performs a predetermined set of actions, usually based on what parameters are given|\n",
    "|2|Arguments|The variables fed to a function|\n",
    "|3|Comments|Non-coding text that is not interpreted, but used for human readability purposes|\n",
    "|4|Indentations|One or more instances of <code>\\t</code>|\n",
    "|5|Packages|The container for a group of related code files|\n",
    "|6|<code>.</code>|Symbol denoting membership to a parent|"
   ]
  },
  {
   "cell_type": "markdown",
   "id": "4226589c",
   "metadata": {},
   "source": [
    "## Exercise 4 :  More than one way to divide"
   ]
  },
  {
   "cell_type": "code",
   "execution_count": 22,
   "id": "d8ddfaf0",
   "metadata": {},
   "outputs": [
    {
     "name": "stdout",
     "output_type": "stream",
     "text": [
      "2.5\n",
      "2\n",
      "1\n"
     ]
    }
   ],
   "source": [
    "print(5/2) #Float division\n",
    "print(5//2) #Integer division, divide and round down\n",
    "print(5%2) #modulus, gives remainder"
   ]
  },
  {
   "cell_type": "code",
   "execution_count": null,
   "id": "0bd8eea7",
   "metadata": {},
   "outputs": [],
   "source": []
  }
 ],
 "metadata": {
  "kernelspec": {
   "display_name": "Python 3 (ipykernel)",
   "language": "python",
   "name": "python3"
  },
  "language_info": {
   "codemirror_mode": {
    "name": "ipython",
    "version": 3
   },
   "file_extension": ".py",
   "mimetype": "text/x-python",
   "name": "python",
   "nbconvert_exporter": "python",
   "pygments_lexer": "ipython3",
   "version": "3.10.8"
  },
  "toc": {
   "base_numbering": 1,
   "nav_menu": {},
   "number_sections": true,
   "sideBar": true,
   "skip_h1_title": false,
   "title_cell": "Table of Contents",
   "title_sidebar": "Contents",
   "toc_cell": false,
   "toc_position": {},
   "toc_section_display": true,
   "toc_window_display": false
  },
  "varInspector": {
   "cols": {
    "lenName": 16,
    "lenType": 16,
    "lenVar": 40
   },
   "kernels_config": {
    "python": {
     "delete_cmd_postfix": "",
     "delete_cmd_prefix": "del ",
     "library": "var_list.py",
     "varRefreshCmd": "print(var_dic_list())"
    },
    "r": {
     "delete_cmd_postfix": ") ",
     "delete_cmd_prefix": "rm(",
     "library": "var_list.r",
     "varRefreshCmd": "cat(var_dic_list()) "
    }
   },
   "types_to_exclude": [
    "module",
    "function",
    "builtin_function_or_method",
    "instance",
    "_Feature"
   ],
   "window_display": false
  },
  "vscode": {
   "interpreter": {
    "hash": "31f2aee4e71d21fbe5cf8b01ff0e069b9275f58929596ceb00d14d90e3e16cd6"
   }
  }
 },
 "nbformat": 4,
 "nbformat_minor": 5
}
