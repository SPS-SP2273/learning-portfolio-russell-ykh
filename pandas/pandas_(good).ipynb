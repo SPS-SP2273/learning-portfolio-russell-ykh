{
 "cells": [
  {
   "cell_type": "markdown",
   "id": "123456",
   "metadata": {},
   "source": [
    "<div style=\"text-align:left;font-size:2em\"><span style=\"font-weight:bolder;font-size:1.25em\">SP2273 | Learning Portfolio</span><br><br><span style=\"font-weight:bold;color:darkred\">Pandas (Good)</span></div>"
   ]
  },
  {
   "cell_type": "markdown",
   "id": "995a8690",
   "metadata": {},
   "source": [
    "## 1 Missing data"
   ]
  },
  {
   "cell_type": "markdown",
   "id": "3bb6577d",
   "metadata": {},
   "source": [
    "### 1.1 All missing data"
   ]
  },
  {
   "cell_type": "code",
   "execution_count": null,
   "id": "e2256cfc",
   "metadata": {},
   "outputs": [],
   "source": [
    "\n",
    "# Your code here\n"
   ]
  },
  {
   "cell_type": "markdown",
   "id": "9fdd8690",
   "metadata": {},
   "source": [
    "### 1.2 Columns and rows of the missing data"
   ]
  },
  {
   "cell_type": "code",
   "execution_count": null,
   "id": "959288a3",
   "metadata": {},
   "outputs": [],
   "source": [
    "\n",
    "# Your code here\n"
   ]
  },
  {
   "cell_type": "markdown",
   "id": "f4e738cd",
   "metadata": {},
   "source": [
    "### 1.3 More details of the missing numbers"
   ]
  },
  {
   "cell_type": "code",
   "execution_count": null,
   "id": "de7d5aec",
   "metadata": {},
   "outputs": [],
   "source": [
    "\n",
    "# Your code here\n"
   ]
  },
  {
   "cell_type": "markdown",
   "id": "4960ce2a",
   "metadata": {},
   "source": [
    "### 1.4 Dealing with missing numbers?"
   ]
  },
  {
   "cell_type": "code",
   "execution_count": null,
   "id": "80e9c441",
   "metadata": {},
   "outputs": [],
   "source": [
    "\n",
    "# Your code here\n"
   ]
  },
  {
   "cell_type": "markdown",
   "id": "753bbf34",
   "metadata": {},
   "source": [
    "### 1.5 Itterating over a dataframe"
   ]
  },
  {
   "cell_type": "code",
   "execution_count": null,
   "id": "24b962b2",
   "metadata": {},
   "outputs": [],
   "source": [
    "\n",
    "# Your code here\n"
   ]
  },
  {
   "cell_type": "markdown",
   "id": "1e228609",
   "metadata": {},
   "source": [
    "## 2 Combining dataframes"
   ]
  },
  {
   "cell_type": "markdown",
   "id": "c6a81c4c",
   "metadata": {},
   "source": [
    "### 2.1 The complete recipe"
   ]
  },
  {
   "cell_type": "code",
   "execution_count": null,
   "id": "1554c079",
   "metadata": {},
   "outputs": [],
   "source": [
    "\n",
    "# Your code here\n"
   ]
  },
  {
   "cell_type": "markdown",
   "id": "4de49f41",
   "metadata": {},
   "source": [
    "## 3 Plotting directly from Pandas"
   ]
  },
  {
   "cell_type": "markdown",
   "id": "e55e3266",
   "metadata": {},
   "source": [
    "### 3.1 Barcharts"
   ]
  },
  {
   "cell_type": "code",
   "execution_count": 20,
   "id": "74fe6e1d",
   "metadata": {},
   "outputs": [
    {
     "data": {
      "image/png": "[encoded data removed]",
      "text/plain": [
       "<Figure size 640x480 with 1 Axes>"
      ]
     },
     "metadata": {},
     "output_type": "display_data"
    }
   ],
   "source": [
    "import pandas\n",
    "import numpy as np\n",
    "import matplotlib.pyplot as plt\n",
    "\n",
    "df = pandas.read_excel('dummy-class-1-of-2.xlsx',skiprows=1)\n",
    "grp = df.groupby(['Gender'])\n",
    "grp.count().plot(kind='barh')\n",
    "plt.show()"
   ]
  },
  {
   "cell_type": "markdown",
   "id": "38128344",
   "metadata": {},
   "source": [
    "### 3.2 Histograms"
   ]
  },
  {
   "cell_type": "code",
   "execution_count": null,
   "id": "60f1be38",
   "metadata": {},
   "outputs": [],
   "source": [
    "\n",
    "# Your code here\n"
   ]
  },
  {
   "cell_type": "markdown",
   "id": "8e2bb46d",
   "metadata": {},
   "source": [
    "### 3.3 Pie"
   ]
  },
  {
   "cell_type": "code",
   "execution_count": null,
   "id": "ac00535b",
   "metadata": {},
   "outputs": [],
   "source": [
    "\n",
    "# Your code here\n"
   ]
  },
  {
   "cell_type": "markdown",
   "id": "844a2283",
   "metadata": {},
   "source": [
    "### 3.4 Boxplots"
   ]
  },
  {
   "cell_type": "code",
   "execution_count": null,
   "id": "6af986e5",
   "metadata": {},
   "outputs": [],
   "source": [
    "\n",
    "# Your code here\n"
   ]
  },
  {
   "cell_type": "markdown",
   "id": "9fb1c594",
   "metadata": {},
   "source": [
    "## Exercise 1 :  Oh no! Yet another class!"
   ]
  },
  {
   "cell_type": "code",
   "execution_count": null,
   "id": "cfa19b2a",
   "metadata": {},
   "outputs": [],
   "source": [
    "import pandas as pd\n",
    "\n",
    "df_test01 = pd.read_excel(\"class_test-01.xlsx\")\n",
    "df_test02 = pd.read_excel(\"class_test-02.xlsx\")\n",
    "df_names = pd.read_excel(\"class_names.xlsx\")"
   ]
  }
 ],
 "metadata": {
  "kernelspec": {
   "display_name": "Python 3 (ipykernel)",
   "language": "python",
   "name": "python3"
  },
  "language_info": {
   "codemirror_mode": {
    "name": "ipython",
    "version": 3
   },
   "file_extension": ".py",
   "mimetype": "text/x-python",
   "name": "python",
   "nbconvert_exporter": "python",
   "pygments_lexer": "ipython3",
   "version": "3.10.8"
  },
  "toc": {
   "base_numbering": 1,
   "nav_menu": {},
   "number_sections": true,
   "sideBar": true,
   "skip_h1_title": false,
   "title_cell": "Table of Contents",
   "title_sidebar": "Contents",
   "toc_cell": false,
   "toc_position": {},
   "toc_section_display": true,
   "toc_window_display": false
  },
  "varInspector": {
   "cols": {
    "lenName": 16,
    "lenType": 16,
    "lenVar": 40
   },
   "kernels_config": {
    "python": {
     "delete_cmd_postfix": "",
     "delete_cmd_prefix": "del ",
     "library": "var_list.py",
     "varRefreshCmd": "print(var_dic_list())"
    },
    "r": {
     "delete_cmd_postfix": ") ",
     "delete_cmd_prefix": "rm(",
     "library": "var_list.r",
     "varRefreshCmd": "cat(var_dic_list()) "
    }
   },
   "types_to_exclude": [
    "module",
    "function",
    "builtin_function_or_method",
    "instance",
    "_Feature"
   ],
   "window_display": false
  },
  "vscode": {
   "interpreter": {
    "hash": "31f2aee4e71d21fbe5cf8b01ff0e069b9275f58929596ceb00d14d90e3e16cd6"
   }
  }
 },
 "nbformat": 4,
 "nbformat_minor": 5
}
