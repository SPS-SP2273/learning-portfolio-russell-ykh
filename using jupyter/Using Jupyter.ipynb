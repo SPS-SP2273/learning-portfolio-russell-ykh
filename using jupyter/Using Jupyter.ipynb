{
 "cells": [
  {
   "cell_type": "markdown",
   "id": "88095b1e",
   "metadata": {},
   "source": [
    "**Quadratic Equations**\n",
    "![](https://upload.wikimedia.org/wikipedia/commons/thumb/f/f8/Polynomialdeg2.svg/300px-Polynomialdeg2.svg.png)\n",
    "\n",
    "*(Image from the [Wikipedia page on Quadratic equations](https://en.wikipedia.org/wiki/Quadratic_equation))*\n",
    "\n",
    "**Introduction**<br>\n",
    "The general form of a quadratic equation is:\n",
    "\n",
    "$ax^2 + bx + c = 0$\n",
    "\n",
    "**Solutions** Provided $a ≠ 0$, we can use an elementary algebraic method called [completing the square](https://en.wikipedia.org/wiki/Completing_the_square) to show that a quadratic equation has the following solution:\n",
    "\n",
    "$d\\frac{-b±\\sqrt{b^2-4ac}}{2a}$\n",
    "\n",
    "**Discriminant**<br>\n",
    "The quantity $Δ = b^2 - 4ac$ is called the **discriminant** of the equation and decides the nature of its solutions. The table below shows the various possibilities.\n",
    "\n",
    "|Discriminant|Roots|\n",
    "|:-:|:-:|\n",
    "|$$Δ=b^2 - 4ac = 0$$|A single solution of $$-b/(2a)$$|\n",
    "|$$Δ = b^2 - 4ac > 0$$|Two distinct solutions|\n",
    "|$$Δ = b^2 - 4ac < 0$$|No real solutions; both are complex|"
   ]
  },
  {
   "cell_type": "markdown",
   "id": "e92835d4",
   "metadata": {},
   "source": [
    "Use a Markdown cell to answer the following.<br>\n",
    "1. What is a **repository**?\n",
    " * A place to store code and other related resources in a way that is easily accessible by your co-workers.\n",
    "1. Git keep tracks of ____BLANK____ in the files in our repository.\n",
    " * Changes\n",
    "1. What is a **commit**?\n",
    " * When you change something and make up your mind about it.\n",
    "1. What is a **push**?\n",
    " * When you send your changes to the repository that everyone can see.\n",
    "1. What is the difference between **GitHub** and **GitHub Desktop**?\n",
    " * GitHub is on a web browser, GitHub Desktop is an app on your desktop.\n",
    "1. Is there an 'opposite' to a **push**?\n",
    " * Yes. A pull."
   ]
  },
  {
   "cell_type": "code",
   "execution_count": null,
   "id": "c3349c1d",
   "metadata": {},
   "outputs": [],
   "source": []
  }
 ],
 "metadata": {
  "kernelspec": {
   "display_name": "Python 3 (ipykernel)",
   "language": "python",
   "name": "python3"
  },
  "language_info": {
   "codemirror_mode": {
    "name": "ipython",
    "version": 3
   },
   "file_extension": ".py",
   "mimetype": "text/x-python",
   "name": "python",
   "nbconvert_exporter": "python",
   "pygments_lexer": "ipython3",
   "version": "3.10.8"
  },
  "toc": {
   "base_numbering": 1,
   "nav_menu": {},
   "number_sections": true,
   "sideBar": true,
   "skip_h1_title": false,
   "title_cell": "Table of Contents",
   "title_sidebar": "Contents",
   "toc_cell": false,
   "toc_position": {},
   "toc_section_display": true,
   "toc_window_display": false
  },
  "varInspector": {
   "cols": {
    "lenName": 16,
    "lenType": 16,
    "lenVar": 40
   },
   "kernels_config": {
    "python": {
     "delete_cmd_postfix": "",
     "delete_cmd_prefix": "del ",
     "library": "var_list.py",
     "varRefreshCmd": "print(var_dic_list())"
    },
    "r": {
     "delete_cmd_postfix": ") ",
     "delete_cmd_prefix": "rm(",
     "library": "var_list.r",
     "varRefreshCmd": "cat(var_dic_list()) "
    }
   },
   "types_to_exclude": [
    "module",
    "function",
    "builtin_function_or_method",
    "instance",
    "_Feature"
   ],
   "window_display": false
  }
 },
 "nbformat": 4,
 "nbformat_minor": 5
}
