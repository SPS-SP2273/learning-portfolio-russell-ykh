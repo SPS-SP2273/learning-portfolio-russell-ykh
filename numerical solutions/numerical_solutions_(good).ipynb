{
 "cells": [
  {
   "cell_type": "markdown",
   "id": "123456",
   "metadata": {},
   "source": [
    "<div style=\"text-align:left;font-size:2em\"><span style=\"font-weight:bolder;font-size:1.25em\">SP2273 | Learning Portfolio</span><br><br><span style=\"font-weight:bold;color:darkred\">Numerical Solutions (Good)</span></div>"
   ]
  },
  {
   "cell_type": "markdown",
   "id": "228aa3c3",
   "metadata": {},
   "source": [
    "## 1 Differential Equations and Euler"
   ]
  },
  {
   "cell_type": "markdown",
   "id": "cd17eaa9",
   "metadata": {},
   "source": [
    "### 1.2 What do we mean by changes?"
   ]
  },
  {
   "cell_type": "code",
   "execution_count": null,
   "id": "bcb3041e",
   "metadata": {},
   "outputs": [],
   "source": [
    "\n",
    "# Your code here\n"
   ]
  },
  {
   "cell_type": "markdown",
   "id": "61219fdc",
   "metadata": {},
   "source": [
    "### 1.3 Calculus: Meaning and Notation"
   ]
  },
  {
   "cell_type": "code",
   "execution_count": null,
   "id": "b4e86f2c",
   "metadata": {},
   "outputs": [],
   "source": [
    "\n",
    "# Your code here\n"
   ]
  },
  {
   "cell_type": "markdown",
   "id": "d6acd66b",
   "metadata": {},
   "source": [
    "### 1.4 Calculus: Getting a feel for \\(\\dfrac{dN}{dt}\\)"
   ]
  },
  {
   "cell_type": "code",
   "execution_count": null,
   "id": "b1bec1c0",
   "metadata": {},
   "outputs": [],
   "source": [
    "\n",
    "# Your code here\n"
   ]
  },
  {
   "cell_type": "markdown",
   "id": "f157698d",
   "metadata": {},
   "source": [
    "### 1.5 Solving Differential Equations"
   ]
  },
  {
   "cell_type": "code",
   "execution_count": null,
   "id": "93fbd899",
   "metadata": {},
   "outputs": [],
   "source": [
    "\n",
    "# Your code here\n"
   ]
  },
  {
   "cell_type": "markdown",
   "id": "c463f229",
   "metadata": {},
   "source": [
    "### 1.6 The Euler Method"
   ]
  },
  {
   "cell_type": "code",
   "execution_count": null,
   "id": "35159d6f",
   "metadata": {},
   "outputs": [],
   "source": [
    "\n",
    "# Your code here\n"
   ]
  },
  {
   "cell_type": "markdown",
   "id": "7b93dd0e",
   "metadata": {},
   "source": [
    "### 1.7 Using Euler for the logistic equation"
   ]
  },
  {
   "cell_type": "code",
   "execution_count": null,
   "id": "74edbcbc",
   "metadata": {},
   "outputs": [],
   "source": [
    "\n",
    "# Your code here\n"
   ]
  },
  {
   "cell_type": "markdown",
   "id": "56e51e63",
   "metadata": {},
   "source": [
    "### 1.8 Some things to note about the code"
   ]
  },
  {
   "cell_type": "code",
   "execution_count": null,
   "id": "63fceabd",
   "metadata": {},
   "outputs": [],
   "source": [
    "\n",
    "# Your code here\n"
   ]
  },
  {
   "cell_type": "markdown",
   "id": "b53fef7d",
   "metadata": {},
   "source": [
    "## 2 Coupled Differential Equations: Predator-Prey Model"
   ]
  },
  {
   "cell_type": "markdown",
   "id": "2c22c946",
   "metadata": {},
   "source": [
    "### 2.1 The equations"
   ]
  },
  {
   "cell_type": "code",
   "execution_count": null,
   "id": "1f3f73f5",
   "metadata": {},
   "outputs": [],
   "source": [
    "\n",
    "# Your code here\n"
   ]
  },
  {
   "cell_type": "markdown",
   "id": "5fb857c0",
   "metadata": {},
   "source": [
    "### 2.2 Example code"
   ]
  },
  {
   "cell_type": "code",
   "execution_count": null,
   "id": "6433c3ed",
   "metadata": {},
   "outputs": [],
   "source": [
    "\n",
    "# Your code here\n"
   ]
  },
  {
   "cell_type": "markdown",
   "id": "932311e5",
   "metadata": {},
   "source": [
    "### 2.3 Some things to note about the code"
   ]
  },
  {
   "cell_type": "code",
   "execution_count": null,
   "id": "beaeaa6f",
   "metadata": {},
   "outputs": [],
   "source": [
    "\n",
    "# Your code here\n"
   ]
  },
  {
   "cell_type": "markdown",
   "id": "b8eee56b",
   "metadata": {},
   "source": [
    "## 3 Hello SciPy"
   ]
  },
  {
   "cell_type": "markdown",
   "id": "cbc3b8c5",
   "metadata": {},
   "source": [
    "### 3.1 SciPy odeint()"
   ]
  },
  {
   "cell_type": "code",
   "execution_count": null,
   "id": "878b51bd",
   "metadata": {},
   "outputs": [],
   "source": [
    "\n",
    "# Your code here\n"
   ]
  },
  {
   "cell_type": "markdown",
   "id": "948754c9",
   "metadata": {},
   "source": [
    "### 3.2 Radioactivity"
   ]
  },
  {
   "cell_type": "code",
   "execution_count": null,
   "id": "63327927",
   "metadata": {},
   "outputs": [],
   "source": [
    "\n",
    "# Your code here\n"
   ]
  },
  {
   "cell_type": "markdown",
   "id": "623153db",
   "metadata": {},
   "source": [
    "### 3.3 Logistic Equation"
   ]
  },
  {
   "cell_type": "code",
   "execution_count": null,
   "id": "fca262f9",
   "metadata": {},
   "outputs": [],
   "source": [
    "\n",
    "# Your code here\n"
   ]
  },
  {
   "cell_type": "markdown",
   "id": "fffd7fea",
   "metadata": {},
   "source": [
    "### 3.4 Predator-Prey"
   ]
  },
  {
   "cell_type": "code",
   "execution_count": null,
   "id": "31a8a2d2",
   "metadata": {},
   "outputs": [],
   "source": [
    "\n",
    "# Your code here\n"
   ]
  },
  {
   "cell_type": "markdown",
   "id": "1bac08d0",
   "metadata": {},
   "source": [
    "## Exercise 1 :  The Lorentz Attaractor"
   ]
  },
  {
   "cell_type": "code",
   "execution_count": null,
   "id": "b8929ab4",
   "metadata": {},
   "outputs": [],
   "source": [
    "\n",
    "# Your solution here\n"
   ]
  }
 ],
 "metadata": {
  "kernelspec": {
   "display_name": "Python 3 (ipykernel)",
   "language": "python",
   "name": "python3"
  },
  "language_info": {
   "codemirror_mode": {
    "name": "ipython",
    "version": 3
   },
   "file_extension": ".py",
   "mimetype": "text/x-python",
   "name": "python",
   "nbconvert_exporter": "python",
   "pygments_lexer": "ipython3",
   "version": "3.10.8"
  },
  "toc": {
   "base_numbering": 1,
   "nav_menu": {},
   "number_sections": true,
   "sideBar": true,
   "skip_h1_title": false,
   "title_cell": "Table of Contents",
   "title_sidebar": "Contents",
   "toc_cell": false,
   "toc_position": {},
   "toc_section_display": true,
   "toc_window_display": false
  },
  "varInspector": {
   "cols": {
    "lenName": 16,
    "lenType": 16,
    "lenVar": 40
   },
   "kernels_config": {
    "python": {
     "delete_cmd_postfix": "",
     "delete_cmd_prefix": "del ",
     "library": "var_list.py",
     "varRefreshCmd": "print(var_dic_list())"
    },
    "r": {
     "delete_cmd_postfix": ") ",
     "delete_cmd_prefix": "rm(",
     "library": "var_list.r",
     "varRefreshCmd": "cat(var_dic_list()) "
    }
   },
   "types_to_exclude": [
    "module",
    "function",
    "builtin_function_or_method",
    "instance",
    "_Feature"
   ],
   "window_display": false
  },
  "vscode": {
   "interpreter": {
    "hash": "31f2aee4e71d21fbe5cf8b01ff0e069b9275f58929596ceb00d14d90e3e16cd6"
   }
  }
 },
 "nbformat": 4,
 "nbformat_minor": 5
}
